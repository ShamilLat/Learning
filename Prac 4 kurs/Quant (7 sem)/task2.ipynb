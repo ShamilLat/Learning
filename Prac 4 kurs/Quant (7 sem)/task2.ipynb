{
  "cells": [
    {
      "cell_type": "code",
      "execution_count": null,
      "metadata": {
        "id": "fOdqazE189yh",
        "colab": {
          "base_uri": "https://localhost:8080/",
          "height": 35
        },
        "outputId": "8ce35310-9c61-4bae-8546-c23237b3e95e"
      },
      "outputs": [
        {
          "output_type": "execute_result",
          "data": {
            "text/plain": [
              "'\\nначальное состояние: 101\\nспины атомов сонаправлены (образование молекулы невозможно)\\nковалентной связи нет\\nнет фононов\\n'"
            ],
            "application/vnd.google.colaboratory.intrinsic+json": {
              "type": "string"
            }
          },
          "metadata": {},
          "execution_count": 3
        }
      ],
      "source": [
        "from math import *\n",
        "import numpy as np\n",
        "import numpy.linalg as linalg\n",
        "import matplotlib.pyplot as plt\n",
        "import scipy.linalg as scpl\n",
        "from tqdm import tqdm\n",
        "'''\n",
        "начальное состояние: 101\n",
        "спины атомов сонаправлены (образование молекулы невозможно)\n",
        "ковалентной связи нет\n",
        "нет фононов\n",
        "'''"
      ]
    },
    {
      "cell_type": "code",
      "execution_count": null,
      "metadata": {
        "id": "OsIwDjH989ys"
      },
      "outputs": [],
      "source": [
        "h = 1\n",
        "w = 1\n",
        "k = 1\n",
        "gc = 1\n",
        "g0 = 1\n",
        "gam = 5\n",
        "d_t = 0.0001\n",
        "epochs = 1000000"
      ]
    },
    {
      "cell_type": "code",
      "execution_count": null,
      "metadata": {
        "id": "IjlwBHcn89yu"
      },
      "outputs": [],
      "source": [
        "def P(t, n):\n",
        "    return exp(-h*w*n/k/t)"
      ]
    },
    {
      "cell_type": "code",
      "execution_count": null,
      "metadata": {
        "id": "Pcigf_6R89yw"
      },
      "outputs": [],
      "source": [
        "def N_av(t):\n",
        "    i = 0\n",
        "    ad = P(t, i)\n",
        "    sum = ad\n",
        "    n_sum = 0\n",
        "    i += 1\n",
        "    while ad > 0.0000001:\n",
        "        ad = P(t, i)\n",
        "        sum += ad\n",
        "        n_sum += ad * i\n",
        "        i += 1\n",
        "    c = 1 / sum\n",
        "    return c * n_sum"
      ]
    },
    {
      "cell_type": "code",
      "execution_count": null,
      "metadata": {
        "id": "_XeCz6HU89yz"
      },
      "outputs": [],
      "source": [
        "# улет фонона из полости\n",
        "b = np.array([\n",
        "    [0, 0, 1, 0], # |000> состояние стабильной молекулы (спины антипараллельны, связь есть, фонон улетел)\n",
        "    [0, 0, 0, 0], # |001> возможно образование молекулы (спины атомов антипараллельны, ковалентной связи нет, фононов нет)\n",
        "    [0, 0, 0, 0], # |010> состояние нестабильной молекулы (спины антипараллельны, свящь есть, есть фонон)\n",
        "    [0, 0, 0, 0]  # |101> начальное состояние (образование молекулы невозможно) \n",
        "])\n",
        "\n",
        "b_p = np.transpose(b)"
      ]
    },
    {
      "cell_type": "code",
      "source": [
        "H1 = np.array([\n",
        "    [0.0, 0.0, 0.0, 0.0],\n",
        "    [0.0, h * w, gc, 0.0],\n",
        "    [0.0, gc, h * w, 0.0],\n",
        "    [0.0, 0.0, 0.0, h * w],\n",
        "])"
      ],
      "metadata": {
        "id": "RxEUh0KmLjHu"
      },
      "execution_count": null,
      "outputs": []
    },
    {
      "cell_type": "code",
      "execution_count": null,
      "metadata": {
        "id": "rxYk-PXz89y6"
      },
      "outputs": [],
      "source": [
        "def L(rho):\n",
        "    return gam * (b @ rho @ b_p - 0.5 * (b_p @ b @ rho + rho @ (b_p @ b)))"
      ]
    },
    {
      "cell_type": "code",
      "execution_count": null,
      "metadata": {
        "id": "gntfzIXR89y8"
      },
      "outputs": [],
      "source": [
        "rho_0 = np.zeros((4, 4))\n",
        "rho_0[3][3] = 1"
      ]
    },
    {
      "cell_type": "code",
      "execution_count": null,
      "metadata": {
        "id": "YBKFGt6T89y9"
      },
      "outputs": [],
      "source": [
        "# g_273 - вероятность перехода спинов атомов в из параллельного состояния в антипараллельное при 0 градусов цельсия (273 К)\n",
        "g_273 = sqrt(N_av(273)) * g0\n",
        "H = H1.copy()\n",
        "H[3][1] += g_273\n",
        "H[1][3] += g_273"
      ]
    },
    {
      "cell_type": "code",
      "execution_count": null,
      "metadata": {
        "colab": {
          "base_uri": "https://localhost:8080/"
        },
        "id": "KgQzbslz89zA",
        "outputId": "8e90a75c-4c22-496d-d6b1-f4aab7069120"
      },
      "outputs": [
        {
          "output_type": "stream",
          "name": "stderr",
          "text": [
            "100%|██████████| 1000000/1000000 [00:44<00:00, 22359.65it/s]\n"
          ]
        }
      ],
      "source": [
        "rho_273 = []\n",
        "rho = rho_0.copy()\n",
        "rho_273.append(np.abs(rho[0][0]))\n",
        "\n",
        "for i in tqdm(range(epochs)):\n",
        "    d_rho = complex(0, -1) * (H @ rho - rho @ H) / h + L(rho) / h\n",
        "    rho = rho + d_t * d_rho\n",
        "    rho_273.append(np.abs(rho[0][0]))\n",
        "    if not (i % 10):\n",
        "        rho = (rho + np.conj(np.transpose(rho))) * 0.5\n",
        "        rho = rho / np.trace(rho)"
      ]
    },
    {
      "cell_type": "code",
      "execution_count": null,
      "metadata": {
        "id": "ByYXstN289zC",
        "outputId": "876ff012-a485-4ba0-ff55-afa349ef8552",
        "colab": {
          "base_uri": "https://localhost:8080/",
          "height": 281
        }
      },
      "outputs": [
        {
          "output_type": "display_data",
          "data": {
            "text/plain": [
              "<Figure size 432x288 with 1 Axes>"
            ],
            "image/png": "[encoded data removed]"
          },
          "metadata": {
            "needs_background": "light"
          }
        }
      ],
      "source": [
        "x_mesh = np.linspace(0, (len(rho_273)-1) * d_t, len(rho_273))\n",
        "plt.plot(x_mesh, rho_273, label = \"$|\\\\rho_{273}|$ - 273 K\")\n",
        "plt.legend()\n",
        "plt.xlabel(\"$\\\\omega t$\")\n",
        "plt.ylabel(\"$\\\\rho(t)$\")\n",
        "plt.grid()\n",
        "plt.show()\n",
        "# осцилляции Раби в переходе |001> <---> |010>"
      ]
    },
    {
      "cell_type": "code",
      "execution_count": null,
      "metadata": {
        "id": "qKkgRle489zD"
      },
      "outputs": [],
      "source": [
        "g_1 = sqrt(N_av(1)) * g0\n",
        "H = H1.copy()\n",
        "H[3][1] += g_1\n",
        "H[1][3] += g_1"
      ]
    },
    {
      "cell_type": "code",
      "execution_count": null,
      "metadata": {
        "id": "R-epXL0x89zE",
        "outputId": "d8d9780b-ce03-4eee-90fd-950149f86b81",
        "colab": {
          "base_uri": "https://localhost:8080/"
        }
      },
      "outputs": [
        {
          "output_type": "stream",
          "name": "stderr",
          "text": [
            "100%|██████████| 1000000/1000000 [00:46<00:00, 21653.18it/s]\n"
          ]
        }
      ],
      "source": [
        "rho_1 = []\n",
        "rho = rho_0.copy()\n",
        "rho_1.append(np.abs(rho[0][0]))\n",
        "\n",
        "\n",
        "for i in tqdm(range(epochs)):\n",
        "    d_rho = complex(0, -1) * (H @ rho - rho @ H) / h + L(rho) / h\n",
        "    rho = rho + d_t * d_rho\n",
        "    rho_1.append(np.abs(rho[0][0]))\n",
        "    if not (i % 10):\n",
        "        rho = (rho + np.conj(np.transpose(rho))) * 0.5\n",
        "        rho = rho / np.trace(rho)"
      ]
    },
    {
      "cell_type": "code",
      "execution_count": null,
      "metadata": {
        "id": "aSxPBIdE89zF"
      },
      "outputs": [],
      "source": [
        "g_10 = sqrt(N_av(10)) * g0\n",
        "H = H1.copy()\n",
        "H[3][1] += g_10\n",
        "H[1][3] += g_10"
      ]
    },
    {
      "cell_type": "code",
      "execution_count": null,
      "metadata": {
        "id": "Vm67DlAj89zF",
        "outputId": "12186fa6-88fb-4c5a-8199-cc311283b8a7",
        "colab": {
          "base_uri": "https://localhost:8080/"
        }
      },
      "outputs": [
        {
          "output_type": "stream",
          "name": "stderr",
          "text": [
            "100%|██████████| 1000000/1000000 [00:44<00:00, 22425.87it/s]\n"
          ]
        }
      ],
      "source": [
        "rho_10 = []\n",
        "rho = rho_0.copy()\n",
        "rho_10.append(np.abs(rho[0][0]))\n",
        "\n",
        "\n",
        "for i in tqdm(range(epochs)):\n",
        "    d_rho = complex(0, -1) * (H @ rho - rho @ H) / h + L(rho) / h\n",
        "    rho = rho + d_t * d_rho\n",
        "    rho_10.append(np.abs(rho[0][0]))\n",
        "    if not (i % 10):\n",
        "        rho = (rho + np.conj(np.transpose(rho))) * 0.5\n",
        "        rho = rho / np.trace(rho)"
      ]
    },
    {
      "cell_type": "code",
      "execution_count": null,
      "metadata": {
        "id": "YrHRo10j89zH"
      },
      "outputs": [],
      "source": [
        "g_50 = sqrt(N_av(50)) * g0\n",
        "H = H1.copy()\n",
        "H[3][1] += g_50\n",
        "H[1][3] += g_50"
      ]
    },
    {
      "cell_type": "code",
      "execution_count": null,
      "metadata": {
        "id": "ecACN48j89zI",
        "outputId": "822499f2-fe7f-43e1-f2d9-4fd0354534ff",
        "colab": {
          "base_uri": "https://localhost:8080/"
        }
      },
      "outputs": [
        {
          "output_type": "stream",
          "name": "stderr",
          "text": [
            "100%|██████████| 1000000/1000000 [00:44<00:00, 22609.57it/s]\n"
          ]
        }
      ],
      "source": [
        "rho_50 = []\n",
        "rho = rho_0.copy()\n",
        "rho_50.append(np.abs(rho[0][0]))\n",
        "\n",
        "\n",
        "for i in tqdm(range(epochs)):\n",
        "    d_rho = complex(0, -1) * (H @ rho - rho @ H) / h + L(rho) / h\n",
        "    rho = rho + d_t * d_rho\n",
        "    rho_50.append(np.abs(rho[0][0]))\n",
        "    if not (i % 10):\n",
        "        rho = (rho + np.conj(np.transpose(rho))) * 0.5\n",
        "        rho = rho / np.trace(rho)"
      ]
    },
    {
      "cell_type": "code",
      "execution_count": null,
      "metadata": {
        "id": "-dZhovMp89zK"
      },
      "outputs": [],
      "source": [
        "g_100 = sqrt(N_av(100)) * g0\n",
        "H = H1.copy()\n",
        "H[3][1] += g_100\n",
        "H[1][3] += g_100"
      ]
    },
    {
      "cell_type": "code",
      "execution_count": null,
      "metadata": {
        "id": "ZrdWE8OZ89zL",
        "outputId": "868655c0-f8a3-4ab3-ac17-1161cec1d9b8",
        "colab": {
          "base_uri": "https://localhost:8080/"
        }
      },
      "outputs": [
        {
          "output_type": "stream",
          "name": "stderr",
          "text": [
            "100%|██████████| 1000000/1000000 [00:44<00:00, 22357.88it/s]\n"
          ]
        }
      ],
      "source": [
        "rho_100 = []\n",
        "rho = rho_0.copy()\n",
        "rho_100.append(np.abs(rho[0][0]))\n",
        "\n",
        "\n",
        "for i in tqdm(range(epochs)):\n",
        "    d_rho = complex(0, -1) * (H @ rho - rho @ H) / h + L(rho) / h\n",
        "    rho = rho + d_t * d_rho\n",
        "    rho_100.append(np.abs(rho[0][0]))\n",
        "    if not (i % 10):\n",
        "        rho = (rho + np.conj(np.transpose(rho))) * 0.5\n",
        "        rho = rho / np.trace(rho)"
      ]
    },
    {
      "cell_type": "code",
      "execution_count": null,
      "metadata": {
        "id": "uitbR11J89zM"
      },
      "outputs": [],
      "source": [
        "g_20 = sqrt(N_av(20)) * g0\n",
        "H = H1.copy()\n",
        "H[3][1] += g_20\n",
        "H[1][3] += g_20"
      ]
    },
    {
      "cell_type": "code",
      "execution_count": null,
      "metadata": {
        "id": "GoQXX_6X89zN",
        "outputId": "2b0d05ef-9fca-4b90-c85f-de85c96415a0",
        "colab": {
          "base_uri": "https://localhost:8080/"
        }
      },
      "outputs": [
        {
          "output_type": "stream",
          "name": "stderr",
          "text": [
            "100%|██████████| 1000000/1000000 [00:44<00:00, 22484.50it/s]\n"
          ]
        }
      ],
      "source": [
        "rho_20 = []\n",
        "rho = rho_0.copy()\n",
        "rho_20.append(np.abs(rho[0][0]))\n",
        "\n",
        "\n",
        "for i in tqdm(range(epochs)):\n",
        "    d_rho = complex(0, -1) * (H @ rho - rho @ H) / h + L(rho) / h\n",
        "    rho = rho + d_t * d_rho\n",
        "    rho_20.append(np.abs(rho[0][0]))\n",
        "    if not (i % 10):\n",
        "        rho = (rho + np.conj(np.transpose(rho))) * 0.5\n",
        "        rho = rho / np.trace(rho)"
      ]
    },
    {
      "cell_type": "code",
      "execution_count": null,
      "metadata": {
        "id": "40R4hyIo89zP",
        "outputId": "8cf257ed-4e48-47fc-ca00-de45b078a2d1",
        "colab": {
          "base_uri": "https://localhost:8080/",
          "height": 316
        }
      },
      "outputs": [
        {
          "output_type": "stream",
          "name": "stderr",
          "text": [
            "/usr/local/lib/python3.8/dist-packages/IPython/core/pylabtools.py:128: UserWarning: Creating legend with loc=\"best\" can be slow with large amounts of data.\n",
            "  fig.canvas.print_figure(bytes_io, **kw)\n"
          ]
        },
        {
          "output_type": "display_data",
          "data": {
            "text/plain": [
              "<Figure size 432x288 with 1 Axes>"
            ],
            "image/png": "[encoded data removed]"
          },
          "metadata": {
            "needs_background": "light"
          }
        }
      ],
      "source": [
        "x_mesh = np.linspace(0, (len(rho_1)-1) * d_t, len(rho_1))\n",
        "plt.plot(x_mesh, rho_1, label = \"$|\\\\rho_{1}|$ - 1 K\")\n",
        "plt.plot(x_mesh, rho_10, label = \"$|\\\\rho_{10}|$ - 10 K\")\n",
        "plt.plot(x_mesh, rho_20, label = \"$|\\\\rho_{20}|$ - 20 K\")\n",
        "plt.plot(x_mesh, rho_50, label = \"$|\\\\rho_{50}|$ - 50 K\")\n",
        "plt.plot(x_mesh, rho_100, label = \"$|\\\\rho_{100}|$ - 100 K\")\n",
        "plt.plot(x_mesh, rho_273, label = \"$|\\\\rho_{273}|$ - 273 K\")\n",
        "plt.legend()\n",
        "plt.xlabel(\"$\\\\omega t$\")\n",
        "plt.ylabel(\"$\\\\rho(t)$\")\n",
        "plt.grid()\n",
        "plt.show()\n",
        "# со снижением температуры состояния |001> с антипараллельными спинами стабильными, осцилляции Раби становятся более медленными\n",
        "# с понижением температуры коэффициент перехода |101>  <---> |001> снижается"
      ]
    },
    {
      "cell_type": "code",
      "execution_count": null,
      "metadata": {
        "id": "_G6xImVS89zQ"
      },
      "outputs": [],
      "source": []
    }
  ],
  "metadata": {
    "kernelspec": {
      "display_name": "Python 3.9.7 64-bit",
      "language": "python",
      "name": "python3"
    },
    "language_info": {
      "codemirror_mode": {
        "name": "ipython",
        "version": 3
      },
      "file_extension": ".py",
      "mimetype": "text/x-python",
      "name": "python",
      "nbconvert_exporter": "python",
      "pygments_lexer": "ipython3",
      "version": "3.9.7"
    },
    "orig_nbformat": 4,
    "vscode": {
      "interpreter": {
        "hash": "844a783a5f8f4b5a386ac65a83e399dd5ccd6022651d4f45eaf90b7780357e2c"
      }
    },
    "colab": {
      "provenance": []
    }
  },
  "nbformat": 4,
  "nbformat_minor": 0
}