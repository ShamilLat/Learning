{
  "nbformat": 4,
  "nbformat_minor": 0,
  "metadata": {
    "colab": {
      "provenance": []
    },
    "kernelspec": {
      "name": "python3",
      "display_name": "Python 3"
    },
    "language_info": {
      "name": "python"
    }
  },
  "cells": [
    {
      "cell_type": "code",
      "execution_count": null,
      "metadata": {
        "id": "7lDrz-QWBS-n",
        "colab": {
          "base_uri": "https://localhost:8080/"
        },
        "outputId": "309491bf-49e6-4dd5-fc0a-cca6ef9d12ae"
      },
      "outputs": [
        {
          "output_type": "stream",
          "name": "stdout",
          "text": [
            "--2023-09-24 11:59:06--  https://dl.fbaipublicfiles.com/fasttext/vectors-wiki/wiki.en.zip\n",
            "Resolving dl.fbaipublicfiles.com (dl.fbaipublicfiles.com)... 13.249.39.82, 13.249.39.6, 13.249.39.89, ...\n",
            "Connecting to dl.fbaipublicfiles.com (dl.fbaipublicfiles.com)|13.249.39.82|:443... connected.\n",
            "HTTP request sent, awaiting response... 200 OK\n",
            "Length: 10356881291 (9.6G) [application/zip]\n",
            "Saving to: ‘wiki.en.zip’\n",
            "\n",
            "wiki.en.zip         100%[===================>]   9.65G  81.6MB/s    in 89s     \n",
            "\n",
            "2023-09-24 12:00:35 (111 MB/s) - ‘wiki.en.zip’ saved [10356881291/10356881291]\n",
            "\n"
          ]
        }
      ],
      "source": [
        "!wget https://dl.fbaipublicfiles.com/fasttext/vectors-wiki/wiki.en.zip"
      ]
    },
    {
      "cell_type": "code",
      "source": [
        "!unzip wiki.en.zip"
      ],
      "metadata": {
        "colab": {
          "base_uri": "https://localhost:8080/"
        },
        "id": "d-15H3_0EHpg",
        "outputId": "ed6fa00c-069c-4c2a-90da-e3bcf26872c0"
      },
      "execution_count": null,
      "outputs": [
        {
          "output_type": "stream",
          "name": "stdout",
          "text": [
            "Archive:  wiki.en.zip\n",
            "  inflating: wiki.en.vec             \n",
            "  inflating: wiki.en.bin             \n"
          ]
        }
      ]
    },
    {
      "cell_type": "code",
      "source": [
        "!wget http://alfonseca.org/pubs/ws353simrel.tar.gz"
      ],
      "metadata": {
        "colab": {
          "base_uri": "https://localhost:8080/"
        },
        "id": "BTPjh_7qFJn8",
        "outputId": "e1d3e9c9-f3a5-40d5-c725-b2962666e412"
      },
      "execution_count": null,
      "outputs": [
        {
          "output_type": "stream",
          "name": "stdout",
          "text": [
            "--2023-09-24 12:05:36--  http://alfonseca.org/pubs/ws353simrel.tar.gz\n",
            "Resolving alfonseca.org (alfonseca.org)... 162.215.249.67\n",
            "Connecting to alfonseca.org (alfonseca.org)|162.215.249.67|:80... connected.\n",
            "HTTP request sent, awaiting response... 200 OK\n",
            "Length: 5460 (5.3K) [application/x-gzip]\n",
            "Saving to: ‘ws353simrel.tar.gz.1’\n",
            "\n",
            "ws353simrel.tar.gz. 100%[===================>]   5.33K  --.-KB/s    in 0s      \n",
            "\n",
            "2023-09-24 12:05:36 (439 MB/s) - ‘ws353simrel.tar.gz.1’ saved [5460/5460]\n",
            "\n"
          ]
        }
      ]
    },
    {
      "cell_type": "code",
      "source": [
        "!tar -zxvf ws353simrel.tar.gz"
      ],
      "metadata": {
        "colab": {
          "base_uri": "https://localhost:8080/"
        },
        "id": "-NZNnjqBFL5M",
        "outputId": "360ec472-71bd-4982-8054-0b67dab83b5f"
      },
      "execution_count": null,
      "outputs": [
        {
          "output_type": "stream",
          "name": "stdout",
          "text": [
            "wordsim353_sim_rel/wordsim353_agreed.txt\n",
            "wordsim353_sim_rel/wordsim353_annotator1.txt\n",
            "wordsim353_sim_rel/wordsim353_annotator2.txt\n",
            "wordsim353_sim_rel/wordsim_relatedness_goldstandard.txt\n",
            "wordsim353_sim_rel/wordsim_similarity_goldstandard.txt\n"
          ]
        }
      ]
    },
    {
      "cell_type": "code",
      "source": [
        "!wget https://fh295.github.io/simlex.html"
      ],
      "metadata": {
        "colab": {
          "base_uri": "https://localhost:8080/"
        },
        "id": "dwFONDmZGkLv",
        "outputId": "4e0ff37a-04f3-4c5b-9bd7-e029a1d8fc7d"
      },
      "execution_count": null,
      "outputs": [
        {
          "output_type": "stream",
          "name": "stdout",
          "text": [
            "--2023-09-24 12:12:49--  https://fh295.github.io/simlex.html\n",
            "Resolving fh295.github.io (fh295.github.io)... 185.199.108.153, 185.199.109.153, 185.199.110.153, ...\n",
            "Connecting to fh295.github.io (fh295.github.io)|185.199.108.153|:443... connected.\n",
            "HTTP request sent, awaiting response... 200 OK\n",
            "Length: 7073 (6.9K) [text/html]\n",
            "Saving to: ‘simlex.html’\n",
            "\n",
            "\rsimlex.html           0%[                    ]       0  --.-KB/s               \rsimlex.html         100%[===================>]   6.91K  --.-KB/s    in 0s      \n",
            "\n",
            "2023-09-24 12:12:49 (66.4 MB/s) - ‘simlex.html’ saved [7073/7073]\n",
            "\n"
          ]
        }
      ]
    },
    {
      "cell_type": "code",
      "source": [
        "import pandas as pd\n",
        "\n",
        "similarity_data = pd.read_csv(\"/content/wordsim353_sim_rel/wordsim_similarity_goldstandard.txt\", sep='\\t', header=None, names=[\"Word1\", \"Word2\", \"Human_Similarity\"])\n",
        "\n",
        "relatedness_data = pd.read_csv(\"/content/wordsim353_sim_rel/wordsim_relatedness_goldstandard.txt\", sep='\\t', header=None, names=[\"Word1\", \"Word2\", \"Human_Relatedness\"])\n"
      ],
      "metadata": {
        "id": "uSRQgPfTG8Pm"
      },
      "execution_count": null,
      "outputs": []
    },
    {
      "cell_type": "code",
      "source": [
        "!pip install fasttext"
      ],
      "metadata": {
        "colab": {
          "base_uri": "https://localhost:8080/"
        },
        "id": "SkRPnhsaHwSJ",
        "outputId": "65e843ef-05d9-48f6-f45b-52533e92b388"
      },
      "execution_count": null,
      "outputs": [
        {
          "output_type": "stream",
          "name": "stdout",
          "text": [
            "Collecting fasttext\n",
            "  Downloading fasttext-0.9.2.tar.gz (68 kB)\n",
            "\u001b[?25l     \u001b[90m━━━━━━━━━━━━━━━━━━━━━━━━━━━━━━━━━━━━━━━━\u001b[0m \u001b[32m0.0/68.8 kB\u001b[0m \u001b[31m?\u001b[0m eta \u001b[36m-:--:--\u001b[0m\r\u001b[2K     \u001b[90m━━━━━━━━━━━━━━━━━━━━━━━━━━━━━━━━━━━━━━━━\u001b[0m \u001b[32m68.8/68.8 kB\u001b[0m \u001b[31m3.1 MB/s\u001b[0m eta \u001b[36m0:00:00\u001b[0m\n",
            "\u001b[?25h  Preparing metadata (setup.py) ... \u001b[?25l\u001b[?25hdone\n",
            "Collecting pybind11>=2.2 (from fasttext)\n",
            "  Using cached pybind11-2.11.1-py3-none-any.whl (227 kB)\n",
            "Requirement already satisfied: setuptools>=0.7.0 in /usr/local/lib/python3.10/dist-packages (from fasttext) (67.7.2)\n",
            "Requirement already satisfied: numpy in /usr/local/lib/python3.10/dist-packages (from fasttext) (1.23.5)\n",
            "Building wheels for collected packages: fasttext\n",
            "  Building wheel for fasttext (setup.py) ... \u001b[?25l\u001b[?25hdone\n",
            "  Created wheel for fasttext: filename=fasttext-0.9.2-cp310-cp310-linux_x86_64.whl size=4199772 sha256=4ee3e4b69c54dede16e30cf5e96d3aacefe6ef6885ae3bae8168139e85260ed5\n",
            "  Stored in directory: /root/.cache/pip/wheels/a5/13/75/f811c84a8ab36eedbaef977a6a58a98990e8e0f1967f98f394\n",
            "Successfully built fasttext\n",
            "Installing collected packages: pybind11, fasttext\n",
            "Successfully installed fasttext-0.9.2 pybind11-2.11.1\n"
          ]
        }
      ]
    },
    {
      "cell_type": "code",
      "source": [
        "import fasttext.util\n",
        "ft = fasttext.load_model('wiki.en.bin')"
      ],
      "metadata": {
        "colab": {
          "base_uri": "https://localhost:8080/"
        },
        "id": "dukZoO14IEbi",
        "outputId": "1c6525e2-f3ac-400e-fcd2-03f1f50ab03b"
      },
      "execution_count": null,
      "outputs": [
        {
          "output_type": "stream",
          "name": "stderr",
          "text": [
            "Warning : `load_model` does not return WordVectorModel or SupervisedModel any more, but a `FastText` object which is very similar.\n"
          ]
        }
      ]
    },
    {
      "cell_type": "code",
      "source": [
        "def get_word_vectors(word_list):\n",
        "    word_vectors = []\n",
        "    for word in word_list:\n",
        "        vector = ft.get_word_vector(word)\n",
        "        word_vectors.append(vector)\n",
        "    return word_vectors\n",
        "\n",
        "similarity_data[\"Vector1\"] = get_word_vectors(similarity_data[\"Word1\"])\n",
        "similarity_data[\"Vector2\"] = get_word_vectors(similarity_data[\"Word2\"])\n",
        "\n",
        "relatedness_data[\"Vector1\"] = get_word_vectors(relatedness_data[\"Word1\"])\n",
        "relatedness_data[\"Vector2\"] = get_word_vectors(relatedness_data[\"Word2\"])\n"
      ],
      "metadata": {
        "id": "C8LjfzWGIhD9"
      },
      "execution_count": null,
      "outputs": []
    },
    {
      "cell_type": "code",
      "source": [
        "from scipy.spatial.distance import cosine\n",
        "\n",
        "def compute_similarity(row):\n",
        "    vector1 = row[\"Vector1\"]\n",
        "    vector2 = row[\"Vector2\"]\n",
        "\n",
        "    if vector1 is None or vector2 is None:\n",
        "        return None\n",
        "\n",
        "    return 1 - cosine(vector1, vector2)\n",
        "\n",
        "\n",
        "similarity_data[\"Model_Similarity\"] = similarity_data.apply(compute_similarity, axis=1)\n",
        "\n",
        "relatedness_data[\"Model_Relatedness\"] = relatedness_data.apply(compute_similarity, axis=1)\n"
      ],
      "metadata": {
        "id": "B67tghXGKEig"
      },
      "execution_count": null,
      "outputs": []
    },
    {
      "cell_type": "code",
      "source": [
        "# print(similarity_data.head())"
      ],
      "metadata": {
        "id": "JfNis9_CLXKk"
      },
      "execution_count": null,
      "outputs": []
    },
    {
      "cell_type": "code",
      "source": [
        "from scipy.stats import spearmanr\n",
        "\n",
        "similarity_corr, _ = spearmanr(similarity_data[\"Human_Similarity\"], similarity_data[\"Model_Similarity\"])\n",
        "print(\"Спирмен для similarity: \" + str(similarity_corr))\n",
        "\n",
        "relatedness_corr, _ = spearmanr(relatedness_data[\"Human_Relatedness\"], relatedness_data[\"Model_Relatedness\"])\n",
        "print(\"Спирмена для relatedness: \" + str(relatedness_corr))\n"
      ],
      "metadata": {
        "colab": {
          "base_uri": "https://localhost:8080/"
        },
        "id": "Hv_XxiAjLtbi",
        "outputId": "12997954-678f-4c15-8f3a-69e38c2b1d87"
      },
      "execution_count": null,
      "outputs": [
        {
          "output_type": "stream",
          "name": "stdout",
          "text": [
            "Спирмен для similarity: 0.7709829765515606\n",
            "Спирмена для relatedness: 0.6000385071915036\n"
          ]
        }
      ]
    },
    {
      "cell_type": "code",
      "source": [
        "import pandas as pd\n",
        "\n",
        "simlex_data = pd.read_csv(\"SimLex-999.txt\", sep='\\t')\n",
        "simlex_data = simlex_data[[\"word1\", \"word2\", \"SimLex999\"]]\n",
        "\n",
        "print(simlex_data.head())\n"
      ],
      "metadata": {
        "colab": {
          "base_uri": "https://localhost:8080/"
        },
        "id": "vCZRKTdON-1X",
        "outputId": "463de094-f2f5-48b4-965a-92eb40c4eb7c"
      },
      "execution_count": null,
      "outputs": [
        {
          "output_type": "stream",
          "name": "stdout",
          "text": [
            "   word1        word2  SimLex999\n",
            "0    old          new       1.58\n",
            "1  smart  intelligent       9.20\n",
            "2   hard    difficult       8.77\n",
            "3  happy     cheerful       9.55\n",
            "4   hard         easy       0.95\n"
          ]
        }
      ]
    },
    {
      "cell_type": "code",
      "source": [
        "simlex_data[\"Vector1\"] = get_word_vectors(simlex_data[\"word1\"])\n",
        "simlex_data[\"Vector2\"] = get_word_vectors(simlex_data[\"word2\"])\n"
      ],
      "metadata": {
        "id": "Prl0FEZwOhpr"
      },
      "execution_count": null,
      "outputs": []
    },
    {
      "cell_type": "code",
      "source": [
        "simlex_data[\"Model_Simlex\"] = simlex_data.apply(compute_similarity, axis=1)\n"
      ],
      "metadata": {
        "id": "dvY2rUqNPPUV"
      },
      "execution_count": null,
      "outputs": []
    },
    {
      "cell_type": "code",
      "source": [
        "simlex_corr, _ = spearmanr(simlex_data[\"SimLex999\"], simlex_data[\"Model_Simlex\"])\n",
        "print(\"Спирмен для Simlex: \" + str(simlex_corr))\n"
      ],
      "metadata": {
        "colab": {
          "base_uri": "https://localhost:8080/"
        },
        "id": "4DBwSNZRO7fF",
        "outputId": "c2ee7771-1c88-4a8b-f455-01575d05603d"
      },
      "execution_count": null,
      "outputs": [
        {
          "output_type": "stream",
          "name": "stdout",
          "text": [
            "Спирмен для Simlex: 0.38033840459701396\n"
          ]
        }
      ]
    },
    {
      "cell_type": "code",
      "source": [
        "word_pairs = [(\"old\", \"new\"), (\"hard\", \"easy\"), (\"short\", \"long\")]\n",
        "\n",
        "results = []\n",
        "\n",
        "for word1, word2 in word_pairs:\n",
        "    selected_row = simlex_data[(simlex_data[\"word1\"] == word1) & (simlex_data[\"word2\"] == word2)]\n",
        "    if not selected_row.empty:\n",
        "        similarity = selected_row.apply(compute_similarity, axis=1).values[0]\n",
        "        results.append({\"Word1\": word1, \"Word2\": word2, \"Model_Similarity\": similarity})\n",
        "\n",
        "for result in results:\n",
        "    print(result)\n"
      ],
      "metadata": {
        "colab": {
          "base_uri": "https://localhost:8080/"
        },
        "id": "oP44qI6CbzAh",
        "outputId": "51c1c741-66df-43de-c38d-c1a48aac42c8"
      },
      "execution_count": null,
      "outputs": [
        {
          "output_type": "stream",
          "name": "stdout",
          "text": [
            "{'Word1': 'old', 'Word2': 'new', 'Model_Similarity': 0.3278508186340332}\n",
            "{'Word1': 'hard', 'Word2': 'easy', 'Model_Similarity': 0.5655667781829834}\n",
            "{'Word1': 'short', 'Word2': 'long', 'Model_Similarity': 0.6534804105758667}\n"
          ]
        }
      ]
    }
  ]
}