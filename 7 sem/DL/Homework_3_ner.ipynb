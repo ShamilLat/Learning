{
  "cells": [
    {
      "cell_type": "markdown",
      "metadata": {
        "cellId": "n60sekm5rl5p50qk2oohg",
        "id": "ss9WR_zbQELO"
      },
      "source": [
        "# Практическое задание 3\n",
        "\n",
        "# Named Entity Recognition"
      ]
    },
    {
      "cell_type": "markdown",
      "metadata": {
        "cellId": "evivyyrdamncannvk7ra",
        "id": "sB3vM2GfQELQ"
      },
      "source": [
        "## Введение\n",
        "\n",
        "### Постановка задачи\n",
        "\n",
        "В этом задании вы будете решать задачу извлечения именованных сущностей (Named Entity Recognition) - одну из самых распространенных в NLP наряду с задачей текстовой классификации.\n",
        "\n",
        "Данная задача заключается в том, что нужно классифицировать каждое слово / токен на предмет того, является ли оно частью именованной сущности (сущность может состоять из нескольких слов / токенов) или нет.\n",
        "\n",
        "Например, мы хотим извлечь имена и названия организаций. Тогда для текста\n",
        "\n",
        "    Yan    Goodfellow  works  for  Google  Brain\n",
        "\n",
        "модель должна извлечь следующую последовательность:\n",
        "\n",
        "    B-PER  I-PER       O      O    B-ORG   I-ORG\n",
        "\n",
        "где префиксы *B-* и *I-* означают начало и конец именованной сущности, *O* означает слово без тега. Такая префиксная система (*BIO*-разметка) введена, чтобы различать последовательные именованные сущности одного типа.\n",
        "Существуют и другие типы разметок, например *BILUO*, но в рамках данного практического задания сфокусируемся имеено на *BIO*.\n",
        "\n",
        "Решать NER задачу мы будем на датасете CoNLL-2003 с использованием рекуррентных сетей и моделей на базе архитектуры Transformer.\n",
        "\n",
        "### Библиотеки\n",
        "\n",
        "Основные библиотеки:\n",
        " - [PyTorch](https://pytorch.org/)\n",
        " - [Transformers](https://github.com/huggingface/transformers)\n",
        " \n",
        "### Данные\n",
        "\n",
        "Данные лежат в архиве, который состоит из:\n",
        "\n",
        "- *train.tsv* - обучающая выборка. В каждой строке записаны: <слово / токен>, <тэг слова / токена>\n",
        "\n",
        "- *valid.tsv* - валидационная выборка, которую можно использовать для подбора гиперпарамеров и замеров качества. Имеет идентичную с train.tsv структуру.\n",
        "\n",
        "- *test.tsv* - тестовая выборка, по которой оценивается итоговое качество. Имеет идентичную с train.tsv структуру.\n",
        "\n",
        "Скачать данные можно здесь: [ссылка](https://github.com/dayyass/msu_task_3_ner)"
      ]
    },
    {
      "cell_type": "code",
      "execution_count": null,
      "metadata": {
        "cellId": "6wv7dfxxcpug61k635jzq",
        "id": "S5BCB1EfQan1"
      },
      "outputs": [],
      "source": [
        "%pip install numpy==1.21.6 scikit-learn==1.0.2 tensorboard==2.9.0 torch==1.12.1 tqdm==4.64.0 transformers==4.21.1"
      ]
    },
    {
      "cell_type": "code",
      "execution_count": null,
      "metadata": {
        "cellId": "k485drh4ny9aallil52fs",
        "id": "Thidpb9qQELS"
      },
      "outputs": [],
      "source": [
        "import random\n",
        "from collections import Counter, defaultdict, namedtuple\n",
        "from typing import Tuple, List, Dict, Any\n",
        "\n",
        "import torch\n",
        "import numpy as np\n",
        "\n",
        "from tqdm import tqdm, trange"
      ]
    },
    {
      "cell_type": "markdown",
      "metadata": {
        "cellId": "jghfruo6n7sqe0lkuq3ab",
        "execution_id": "8cf78a07-1698-4d8a-81e6-5c6c9f0ccd04",
        "id": "AiDlmbY2QELT"
      },
      "source": [
        "Зафиксируем seed для воспроизводимости результатов (желательно делать **всегда**!):"
      ]
    },
    {
      "cell_type": "code",
      "execution_count": null,
      "metadata": {
        "cellId": "0g42en7clzbvesq2ttgrxkb",
        "id": "yt3ISg3aQELU"
      },
      "outputs": [],
      "source": [
        "def set_global_seed(seed: int) -> None:\n",
        "    \"\"\"\n",
        "    Set global seed for reproducibility.\n",
        "    \"\"\"\n",
        "\n",
        "    random.seed(seed)\n",
        "    np.random.seed(seed)\n",
        "    torch.manual_seed(seed)\n",
        "    torch.cuda.manual_seed_all(seed)\n",
        "    torch.backends.cudnn.benchmark = False\n",
        "    torch.backends.cudnn.deterministic = True\n",
        "\n",
        "\n",
        "set_global_seed(42)"
      ]
    },
    {
      "cell_type": "markdown",
      "metadata": {
        "cellId": "dt8lu1yxaqoxzj82j10q1f",
        "execution_id": "d9e31348-00a0-415d-b9e2-08008cf6408e",
        "id": "AhIg0ZBzQELV"
      },
      "source": [
        "Проинициализируем device (CPU / GPU) на котором будем работать (желательно **GPU**):"
      ]
    },
    {
      "cell_type": "code",
      "execution_count": null,
      "metadata": {
        "cellId": "ji8nwkkb1mbilsc8vg2i7",
        "colab": {
          "base_uri": "https://localhost:8080/",
          "height": 36
        },
        "id": "rboLOv95QELV",
        "outputId": "0dd465ad-1b65-4580-e2ee-1cb34fa6bf59"
      },
      "outputs": [
        {
          "data": {
            "text/plain": [
              "'cuda'"
            ]
          },
          "execution_count": 69,
          "metadata": {},
          "output_type": "execute_result"
        }
      ],
      "source": [
        "device = \"cuda\" if torch.cuda.is_available() else \"cpu\"\n",
        "device"
      ]
    },
    {
      "cell_type": "markdown",
      "metadata": {
        "cellId": "62pbpq4s4lw3woc663kp2g",
        "execution_id": "9e128035-57f5-4f90-b412-62cca1c05224",
        "id": "UW16ryFIQELW"
      },
      "source": [
        "Здесь и далее проинициализируем *tensorboard* для логгирования метрики в процессе обучения:"
      ]
    },
    {
      "cell_type": "code",
      "execution_count": null,
      "metadata": {
        "cellId": "htxvsz0ma6ih25zyt65ybw",
        "execution_id": "414e13dd-d83a-4b9d-968d-4a2c8d695024",
        "id": "6O7Y8hReTODp"
      },
      "outputs": [],
      "source": [
        "%load_ext tensorboard\n",
        "%tensorboard --logdir logs"
      ]
    },
    {
      "cell_type": "markdown",
      "metadata": {
        "cellId": "k38laa9abcagi29gl548y",
        "execution_id": "8055efef-edf2-4daf-ad9a-3dbff5fb836c",
        "id": "4k3Nhd3IQELY"
      },
      "source": [
        "## Часть 1. Подготовка данных (4 балла)"
      ]
    },
    {
      "cell_type": "markdown",
      "metadata": {
        "cellId": "y7v4npf8cs9gb6e8nx9vm",
        "execution_id": "34c42f61-947b-41ee-b97d-14d7da3ae8fa",
        "id": "4qYjOMuPQELY"
      },
      "source": [
        "Первым делом нам нужно считать данные. Давайте напишем функцию, которая на вход принимает путь до одного из conll-2003 файла и возвращает два списка:\n",
        "- список списков слов / токенов (и соответствующий ему)\n",
        "- список списков тегов\n",
        "\n",
        "P.S. Сделаем данную функцию более гибкой, подавая на вход еще булеву переменную, считываем ли мы данные в *lowercase* или нет.\n",
        "\n",
        "**Задание. Реализуйте функцию read_conll2003.** **<font color='red'>(1 балл)</font>**"
      ]
    },
    {
      "cell_type": "code",
      "execution_count": null,
      "metadata": {
        "cellId": "f7ug69f35cgg1ykw6t5grm",
        "id": "wQdCfX2OQELZ"
      },
      "outputs": [],
      "source": [
        "def read_conll2003(\n",
        "    path: str,\n",
        "    lower: bool = True,\n",
        ") -> Tuple[List[List[str]], List[List[str]]]:\n",
        "    \"\"\"\n",
        "    Prepare data in CoNNL like format.\n",
        "    \"\"\"\n",
        "\n",
        "    token_seq = []\n",
        "    label_seq = []\n",
        "    \n",
        "    with open(path, 'r') as f:\n",
        "      tokens = []\n",
        "      labels = []\n",
        "      for line in f.readlines():\n",
        "        s = line.split()\n",
        "        if len(s) == 0:\n",
        "          token_seq.append(tokens)\n",
        "          label_seq.append(labels)\n",
        "          tokens = []\n",
        "          labels = []\n",
        "        else:\n",
        "          token = s[0]\n",
        "          label = s[1]\n",
        "          if lower:\n",
        "            token = token.lower()\n",
        "          tokens.append(token)\n",
        "          labels.append(label)\n",
        "    return token_seq, label_seq"
      ]
    },
    {
      "cell_type": "markdown",
      "metadata": {
        "cellId": "jcur4or2nnlnxph1o0vvk",
        "execution_id": "b70eea59-d8f9-495b-9d6b-a5dba98bd8a7",
        "id": "oYm8xEvFQELb"
      },
      "source": [
        "Считаем все три файла:\n",
        "- *train.tsv*\n",
        "- *valid.tsv*\n",
        "- *test.tsv*"
      ]
    },
    {
      "cell_type": "code",
      "execution_count": null,
      "metadata": {
        "cellId": "tvb075ee5bwgpfg7scnal",
        "id": "-inr1BPgQELb"
      },
      "outputs": [],
      "source": [
        "train_token_seq, train_label_seq = read_conll2003(\"data/train.tsv\")\n",
        "valid_token_seq, valid_label_seq = read_conll2003(\"data/valid.tsv\")\n",
        "test_token_seq, test_label_seq = read_conll2003(\"data/test.tsv\")"
      ]
    },
    {
      "cell_type": "markdown",
      "metadata": {
        "cellId": "sjh9w20xlpd4jgm2ya4a",
        "execution_id": "693e37b9-defb-4c6d-9719-58bce018d8b8",
        "id": "sOoNc1VUQELc"
      },
      "source": [
        "Посмотрим на то, что мы получили:"
      ]
    },
    {
      "cell_type": "code",
      "execution_count": null,
      "metadata": {
        "cellId": "jf399s0h1hah8l7zj9ifs9",
        "colab": {
          "base_uri": "https://localhost:8080/"
        },
        "id": "HK8AcwWGQELd",
        "outputId": "831ee554-0f38-4a80-f5ca-d6ae95019f16"
      },
      "outputs": [
        {
          "name": "stdout",
          "output_type": "stream",
          "text": [
            "eu\tB-ORG\n",
            "rejects\tO\n",
            "german\tB-MISC\n",
            "call\tO\n",
            "to\tO\n",
            "boycott\tO\n",
            "british\tB-MISC\n",
            "lamb\tO\n",
            ".\tO\n"
          ]
        }
      ],
      "source": [
        "for token, label in zip(train_token_seq[0], train_label_seq[0]):\n",
        "    print(f\"{token}\\t{label}\")"
      ]
    },
    {
      "cell_type": "code",
      "execution_count": null,
      "metadata": {
        "cellId": "jb8ucspmztobuf4dibxkd",
        "colab": {
          "base_uri": "https://localhost:8080/"
        },
        "id": "K8SqDeMJjF3Y",
        "outputId": "d3f54f08-cb7c-4653-af0b-6b95a80d546b"
      },
      "outputs": [
        {
          "name": "stdout",
          "output_type": "stream",
          "text": [
            "cricket\tO\n",
            "-\tO\n",
            "leicestershire\tB-ORG\n",
            "take\tO\n",
            "over\tO\n",
            "at\tO\n",
            "top\tO\n",
            "after\tO\n",
            "innings\tO\n",
            "victory\tO\n",
            ".\tO\n"
          ]
        }
      ],
      "source": [
        "for token, label in zip(valid_token_seq[0], valid_label_seq[0]):\n",
        "    print(f\"{token}\\t{label}\")"
      ]
    },
    {
      "cell_type": "code",
      "execution_count": null,
      "metadata": {
        "cellId": "smlbflcmcy3aqq9aougsq",
        "colab": {
          "base_uri": "https://localhost:8080/"
        },
        "id": "ddFE7p5kjF_p",
        "outputId": "ff5f6094-951e-4015-f189-b08bd86a9672"
      },
      "outputs": [
        {
          "name": "stdout",
          "output_type": "stream",
          "text": [
            "soccer\tO\n",
            "-\tO\n",
            "japan\tB-LOC\n",
            "get\tO\n",
            "lucky\tO\n",
            "win\tO\n",
            ",\tO\n",
            "china\tB-PER\n",
            "in\tO\n",
            "surprise\tO\n",
            "defeat\tO\n",
            ".\tO\n"
          ]
        }
      ],
      "source": [
        "for token, label in zip(test_token_seq[0], test_label_seq[0]):\n",
        "    print(f\"{token}\\t{label}\")"
      ]
    },
    {
      "cell_type": "code",
      "execution_count": null,
      "metadata": {
        "cellId": "fxvvsto6jv8akhcsog4mc",
        "colab": {
          "base_uri": "https://localhost:8080/"
        },
        "id": "BZ4Go3IXfDit",
        "outputId": "f48df635-9891-440a-e4f9-81128867ef9f"
      },
      "outputs": [
        {
          "name": "stdout",
          "output_type": "stream",
          "text": [
            "Тесты пройдены!\n"
          ]
        }
      ],
      "source": [
        "assert len(train_token_seq) == len(train_label_seq), \"Длины тренировочных token_seq и label_seq не совпадают, ошибка в функции read_conll2003\"\n",
        "assert len(valid_token_seq) == len(valid_label_seq), \"Длины валидационных token_seq и label_seq не совпадают, ошибка в функции read_conll2003\"\n",
        "assert len(test_token_seq) == len(test_label_seq), \"Длины тестовых token_seq и label_seq не совпадают, ошибка в функции read_conll2003\"\n",
        "\n",
        "assert train_token_seq[0] == ['eu', 'rejects', 'german', 'call', 'to', 'boycott', 'british', 'lamb', '.'], \"Ошибка в тренировочном token_seq\"\n",
        "assert train_label_seq[0] == ['B-ORG', 'O', 'B-MISC', 'O', 'O', 'O', 'B-MISC', 'O', 'O'], \"Ошибка в тренировочном label_seq\"\n",
        "\n",
        "assert valid_token_seq[0] == ['cricket', '-', 'leicestershire', 'take', 'over', 'at', 'top', 'after', 'innings', 'victory', '.'], \"Ошибка в валидационном token_seq\"\n",
        "assert valid_label_seq[0] == ['O', 'O', 'B-ORG', 'O', 'O', 'O', 'O', 'O', 'O', 'O', 'O'], \"Ошибка в валидационном label_seq\"\n",
        "\n",
        "assert test_token_seq[0] == ['soccer', '-', 'japan', 'get', 'lucky', 'win', ',', 'china', 'in', 'surprise', 'defeat', '.'], \"Ошибка в тестовом token_seq\"\n",
        "assert test_label_seq[0] == ['O', 'O', 'B-LOC', 'O', 'O', 'O', 'O', 'B-PER', 'O', 'O', 'O', 'O'], \"Ошибка в тестовом label_seq\"\n",
        "\n",
        "print(\"Тесты пройдены!\")"
      ]
    },
    {
      "cell_type": "markdown",
      "metadata": {
        "cellId": "i77rak34fnlkhozw3edv",
        "execution_id": "c20cacd4-52a2-4bb8-aa0d-21a827335a5c",
        "id": "j96zKo6PQELd"
      },
      "source": [
        "Датасет CoNLL-2003 представлен в виде разметки **BIO**, где лейбл:\n",
        "- *B-{label}* - начало сущности *{label}*\n",
        "- *I-{label}* - продолжение сущности *{label}*\n",
        "- *O* - отсутсвие сущности\n",
        "\n",
        "Также существует другие разметки последовательностей, например **BILUO**. Подробнее с разметками можно ознакомится во вспомогательном ноутбуке."
      ]
    },
    {
      "cell_type": "markdown",
      "metadata": {
        "cellId": "xtbzz594zliq5otje0ep",
        "execution_id": "72fd1bc6-9239-41a6-b616-951c933d1c50",
        "id": "8SVL4USbQELe"
      },
      "source": [
        "### Подготовка словарей\n",
        "\n",
        "Чтобы обучать нейронную сеть, мы будем использовать два отображения:\n",
        "- {**token**}→{**token_idx**}: соответствие между словом / токеном и строкой в *embedding* матрице (начинается с 0);\n",
        "- {**label**}→{**label_idx**}: соответствие между тегом и уникальным индексом (начинается с 0);\n",
        "\n",
        "Теперь нам необходимо реализовать две функции:\n",
        "- get_token2idx\n",
        "- get_label2idx\n",
        "\n",
        "которые будут возвращать соответствующие словари.\n",
        "\n",
        "P.S. token2idx словарь должен также содержать специальные токены:\n",
        "- `<PAD>` - спецтокен для паддинга, так как мы собираемся обучать модели батчами\n",
        "- `<UNK>` - спецтокен для обработки слов / токенов, которых нет в словаре (актуально для инференса)\n",
        "\n",
        "Давайте для удобства дадим им idx 0 и 1 соответственно.\n",
        "\n",
        "P.P.S. В get_token2idx можно также добавить параметр *min_count*, который будет включать только слова превышающие определенную частоту."
      ]
    },
    {
      "cell_type": "markdown",
      "metadata": {
        "cellId": "xkjxar50et8zq6o0ypqwv",
        "execution_id": "efbf3cdb-23b5-4b8b-b89b-627277b8c574",
        "id": "aOnc3UHpQELf"
      },
      "source": [
        "Сначала соберем:\n",
        "- token2cnt - словарь из уникального слова / токена в количество это слова / токена в тренировочной выборке (важно, что только в тренировочной!)\n",
        "- label_set - список из уникальных тегов\n",
        "\n",
        "P.S. Также можно использовать стемминг для того, чтобы преобразовывать разные словоформы одного слова в один токен, но мы опустим этот момент.\n",
        "\n",
        "**Задание. Реализуйте функции get_token2idx и get_label2idx.** **<font color='red'>(1 балл)</font>**"
      ]
    },
    {
      "cell_type": "code",
      "execution_count": null,
      "metadata": {
        "cellId": "ifg8g6ek3v8t6diur0ct2b",
        "id": "IthnXKsoo7A3"
      },
      "outputs": [],
      "source": [
        "token2cnt = Counter([token for sentence in train_token_seq for token in sentence])"
      ]
    },
    {
      "cell_type": "code",
      "execution_count": null,
      "metadata": {
        "cellId": "8p9rt1988y8uvmh1hwmce",
        "colab": {
          "base_uri": "https://localhost:8080/"
        },
        "id": "b_v8YUM7QELg",
        "outputId": "c6c8bc7a-18b1-4ccc-ddae-ee8bca13b28b"
      },
      "outputs": [
        {
          "data": {
            "text/plain": [
              "[('the', 8390),\n",
              " ('.', 7374),\n",
              " (',', 7290),\n",
              " ('of', 3815),\n",
              " ('in', 3621),\n",
              " ('to', 3424),\n",
              " ('a', 3199),\n",
              " ('and', 2872),\n",
              " ('(', 2861),\n",
              " (')', 2861)]"
            ]
          },
          "execution_count": 77,
          "metadata": {},
          "output_type": "execute_result"
        }
      ],
      "source": [
        "token2cnt.most_common(10)"
      ]
    },
    {
      "cell_type": "code",
      "execution_count": null,
      "metadata": {
        "cellId": "6ucyjv4ldtiz6o84f1baci",
        "colab": {
          "base_uri": "https://localhost:8080/"
        },
        "id": "MSm7B546nmDh",
        "outputId": "688deb85-5a6c-466c-88bd-f44337844ada"
      },
      "outputs": [
        {
          "name": "stdout",
          "output_type": "stream",
          "text": [
            "Количество уникальных слов в тренировочном датасете: 21010\n",
            "Количество слов встречающихся только один раз в тренировочном датасете: 10060\n"
          ]
        }
      ],
      "source": [
        "print(f\"Количество уникальных слов в тренировочном датасете: {len(token2cnt)}\")\n",
        "print(f\"Количество слов встречающихся только один раз в тренировочном датасете: {len([token for token, cnt in token2cnt.items() if cnt == 1])}\")"
      ]
    },
    {
      "cell_type": "markdown",
      "metadata": {
        "cellId": "az61qchydo8ctppac56eub",
        "execution_id": "d5e3ceee-b56e-4ad5-af82-d8bf027ea80c",
        "id": "sRtCHt1QruSU"
      },
      "source": [
        "Как мы видим, у нас есть много слов, которые встречаются только один раз в датасете. Очевидно, что выучиться по ним у нас не получиться, мы только переобучимся, поэтому давайте выкинем такие слова при формировании нашего словаря."
      ]
    },
    {
      "cell_type": "code",
      "execution_count": null,
      "metadata": {
        "cellId": "s5tzirtuytdnf76kjtsyso",
        "id": "aCaPftCyQELi"
      },
      "outputs": [],
      "source": [
        "# используйте параметр min_count для того, чтобы отсекать слова частотой cnt < min_count\n",
        "\n",
        "def get_token2idx(\n",
        "    token2cnt: Dict[str, int],\n",
        "    min_count: int,\n",
        ") -> Dict[str, int]:\n",
        "    \"\"\"\n",
        "    Get mapping from tokens to indices to use with Embedding layer.\n",
        "    \"\"\"\n",
        "\n",
        "    token2idx: Dict[str, int] = {}\n",
        "    \n",
        "    # YOUR CODE HERE\n",
        "    token2idx['<PAD>'] = 0\n",
        "    token2idx['<UNK>'] = 1\n",
        "    \n",
        "    i = 2\n",
        "    for token in list(token2cnt.keys()):\n",
        "        if token2cnt[token] >= min_count:\n",
        "            token2idx[token] = i\n",
        "            i += 1\n",
        "\n",
        "    return token2idx"
      ]
    },
    {
      "cell_type": "code",
      "execution_count": null,
      "metadata": {
        "cellId": "lt29xvx7bdi416efpn5rk7",
        "id": "uFK130y-sLH4"
      },
      "outputs": [],
      "source": [
        "token2idx = get_token2idx(token2cnt, min_count=2)"
      ]
    },
    {
      "cell_type": "code",
      "execution_count": null,
      "metadata": {
        "cellId": "tx46x0bumoiti2jvngowsb",
        "id": "g69HFZC7QELh"
      },
      "outputs": [],
      "source": [
        "# Функция для сортировки тегов, чтобы сначала был тег O, потом теги B- и только после теги I- (можно задать вручную)\n",
        "\n",
        "def sort_labels_func(x: str) -> int:\n",
        "    if x == \"O\":\n",
        "        return 0\n",
        "    elif x.startswith(\"B-\"):\n",
        "        return 1\n",
        "    else:\n",
        "        return 2\n",
        "\n",
        "label_set = sorted(\n",
        "    set(label for sentence in train_label_seq for label in sentence),\n",
        "    key=lambda x: (sort_labels_func(x), x),\n",
        ")"
      ]
    },
    {
      "cell_type": "code",
      "execution_count": null,
      "metadata": {
        "cellId": "mbm8e4enxrgzwdnufslyjc",
        "colab": {
          "base_uri": "https://localhost:8080/"
        },
        "id": "VI_3m4qbQELi",
        "outputId": "616239cb-2194-430b-96f5-6bc123537e61"
      },
      "outputs": [
        {
          "data": {
            "text/plain": [
              "['O', 'B-LOC', 'B-MISC', 'B-ORG', 'B-PER', 'I-LOC', 'I-MISC', 'I-ORG', 'I-PER']"
            ]
          },
          "execution_count": 82,
          "metadata": {},
          "output_type": "execute_result"
        }
      ],
      "source": [
        "label_set"
      ]
    },
    {
      "cell_type": "code",
      "execution_count": null,
      "metadata": {
        "cellId": "o11wmq0x47cfvv3i1ziw5",
        "id": "t6i51GPtQELj"
      },
      "outputs": [],
      "source": [
        "def get_label2idx(label_set: List[str]) -> Dict[str, int]:\n",
        "    \"\"\"\n",
        "    Get mapping from labels to indices.\n",
        "    \"\"\"\n",
        "\n",
        "    label2idx: Dict[str, int] = {}\n",
        "\n",
        "    # YOUR CODE HERE\n",
        "    i = 0\n",
        "    for label in label_set:\n",
        "        label2idx[label] = i\n",
        "        i += 1\n",
        "\n",
        "    return label2idx"
      ]
    },
    {
      "cell_type": "code",
      "execution_count": null,
      "metadata": {
        "cellId": "teztshat6sdvzh0ysiuwd",
        "id": "XW6fK0HtQELk"
      },
      "outputs": [],
      "source": [
        "label2idx = get_label2idx(label_set)"
      ]
    },
    {
      "cell_type": "markdown",
      "metadata": {
        "cellId": "sabdzx8b4sp7vow69y7cq",
        "execution_id": "0a07a714-994d-4207-bae7-f9df091d7a46",
        "id": "U13l-2IOQELk"
      },
      "source": [
        "Посмотрим на то, что мы получили:"
      ]
    },
    {
      "cell_type": "code",
      "execution_count": null,
      "metadata": {
        "cellId": "4sfd3yw33jezb3nhkmvhs",
        "colab": {
          "base_uri": "https://localhost:8080/"
        },
        "id": "O7U7bMrHQELl",
        "outputId": "c1715187-91d4-4254-cb0b-536ba4da9f92"
      },
      "outputs": [
        {
          "name": "stdout",
          "output_type": "stream",
          "text": [
            "<PAD>\t0\n",
            "<UNK>\t1\n",
            "eu\t2\n",
            "german\t3\n",
            "call\t4\n",
            "to\t5\n",
            "boycott\t6\n",
            "british\t7\n",
            "lamb\t8\n",
            ".\t9\n"
          ]
        }
      ],
      "source": [
        "for token, idx in list(token2idx.items())[:10]:\n",
        "    print(f\"{token}\\t{idx}\")"
      ]
    },
    {
      "cell_type": "code",
      "execution_count": null,
      "metadata": {
        "cellId": "hvhzjundza69apoexeii3",
        "colab": {
          "base_uri": "https://localhost:8080/"
        },
        "id": "Hp75V-o2QELl",
        "outputId": "d5ed6745-dd04-4a5b-df37-00ed801c4a50"
      },
      "outputs": [
        {
          "name": "stdout",
          "output_type": "stream",
          "text": [
            "O\t0\n",
            "B-LOC\t1\n",
            "B-MISC\t2\n",
            "B-ORG\t3\n",
            "B-PER\t4\n",
            "I-LOC\t5\n",
            "I-MISC\t6\n",
            "I-ORG\t7\n",
            "I-PER\t8\n"
          ]
        }
      ],
      "source": [
        "for label, idx in label2idx.items():\n",
        "    print(f\"{label}\\t{idx}\")"
      ]
    },
    {
      "cell_type": "code",
      "execution_count": null,
      "metadata": {
        "cellId": "6nmyp6yv9z9zk7dfbgmb2j",
        "colab": {
          "base_uri": "https://localhost:8080/"
        },
        "id": "VYb4BdAUhNzk",
        "outputId": "a55a2af4-b16f-45e9-9a54-8ec040b35e44"
      },
      "outputs": [
        {
          "name": "stdout",
          "output_type": "stream",
          "text": [
            "Тесты пройдены!\n"
          ]
        }
      ],
      "source": [
        "assert len(get_token2idx(token2cnt, min_count=1)) == 21012, \"Ошибка в длине словаря, скорее всего неверно реализован min_count\"\n",
        "assert len(token2idx) == 10952, \"Неправильная длина token2idx, скорее всего неверно реализован min_count\"\n",
        "assert len(label2idx) == 9, \"Неправильная длина label2idx\"\n",
        "\n",
        "assert list(token2idx.items())[:10] == [('<PAD>', 0), ('<UNK>', 1), ('eu', 2), ('german', 3), ('call', 4), ('to', 5), ('boycott', 6), ('british', 7), ('lamb', 8), ('.', 9)], \"Неправильно сформированный token2idx\"\n",
        "assert label2idx == {'O': 0, 'B-LOC': 1, 'B-MISC': 2, 'B-ORG': 3, 'B-PER': 4, 'I-LOC': 5, 'I-MISC': 6, 'I-ORG': 7, 'I-PER': 8}, \"Неправильно сформированный label2idx\"\n",
        "\n",
        "print(\"Тесты пройдены!\")"
      ]
    },
    {
      "cell_type": "markdown",
      "metadata": {
        "cellId": "jyqio65idut2dn9s5v5fi",
        "execution_id": "96332f7d-6305-4cbb-b339-a6dcefaa2377",
        "id": "ItPs1DmOQELm"
      },
      "source": [
        "### Подготовка датасета и загрузчика\n",
        "\n",
        "Обычно нейронные сети обучаются батчами. Это означает, что каждое обновление весов нейронной сети происходит на основе нескольких последовательностей. Технической деталью является необходимость дополнить все последовательности внутри батча до одной длины.\n",
        "\n",
        "Из предыдущего практического задания вы должны знать о `Dataset`'е (`torch.utils.data.Dataset`) - структура данных, которая хранит и может по индексу отдавать данные для обучения. Датасет должен наследоваться от стандартного PyTorch класса Dataset и переопределять методы `__len__` и `__getitem__`.\n",
        "\n",
        "Метод `__getitem__` должен возвращать индексированную последовательность и её теги.\n",
        "\n",
        "**Не забудьте** про `<UNK>` спецтокен для неизвестных слов!\n",
        "    \n",
        "Давайте напишем кастомный датасет под нашу задачу, который на вход (метод `__init__`) будет принимать:\n",
        "- token_seq - список списков слов / токенов\n",
        "- label_seq - список списков тегов\n",
        "- token2idx\n",
        "- label2idx\n",
        "\n",
        "и возвращать из метода `__getitem__` два int64 тензора (`torch.LongTensor`) из индексов слов / токенов в сэмпле и индексов соответвующих тегов:\n",
        "\n",
        "**Задание. Реализуйте класс датасета NERDataset.** **<font color='red'>(1 балл)</font>**"
      ]
    },
    {
      "cell_type": "code",
      "execution_count": null,
      "metadata": {
        "cellId": "zewqprhgaxdkk67joufb",
        "id": "kdZvnUUpQELm"
      },
      "outputs": [],
      "source": [
        "class NERDataset(torch.utils.data.Dataset):\n",
        "    \"\"\"\n",
        "    PyTorch Dataset for NER.\n",
        "    \"\"\"\n",
        "\n",
        "    def __init__(\n",
        "        self,\n",
        "        token_seq: List[List[str]],\n",
        "        label_seq: List[List[str]],\n",
        "        token2idx: Dict[str, int],\n",
        "        label2idx: Dict[str, int],\n",
        "    ):\n",
        "        self.token2idx = token2idx\n",
        "        self.label2idx = label2idx\n",
        "\n",
        "        self.token_seq = [self.process_tokens(tokens, token2idx) for tokens in token_seq]\n",
        "        self.label_seq = [self.process_labels(labels, label2idx) for labels in label_seq]\n",
        "\n",
        "    def __len__(self):\n",
        "        return len(self.token_seq)\n",
        "\n",
        "    def __getitem__(\n",
        "        self,\n",
        "        idx: int,\n",
        "    ) -> Tuple[torch.LongTensor, torch.LongTensor]:\n",
        "        # YOUR CODE HERE\n",
        "        return torch.tensor(self.token_seq[idx]), torch.tensor(self.label_seq[idx]) \n",
        "    \n",
        "    @staticmethod\n",
        "    def process_tokens(\n",
        "        tokens: List[str],\n",
        "        token2idx: Dict[str, int],\n",
        "        unk: str = \"<UNK>\",\n",
        "    ) -> List[int]:\n",
        "        \"\"\"\n",
        "        Transform list of tokens into list of tokens' indices.\n",
        "        \"\"\"\n",
        "        # YOUR CODE HERE\n",
        "        process = []\n",
        "        for token in tokens:\n",
        "            process.append(token2idx.get(token, token2idx[unk]))\n",
        "        return process\n",
        "\n",
        "    @staticmethod\n",
        "    def process_labels(\n",
        "        labels: List[str],\n",
        "        label2idx: Dict[str, int],\n",
        "    ) -> List[int]:\n",
        "        \"\"\"\n",
        "        Transform list of labels into list of labels' indices.\n",
        "        \"\"\"\n",
        "        # YOUR CODE HERE\n",
        "        process = []\n",
        "        for label in labels:\n",
        "            process.append(label2idx[label])\n",
        "        return process"
      ]
    },
    {
      "cell_type": "markdown",
      "metadata": {
        "cellId": "qlz8qgnq0ejml23yvc80ke",
        "execution_id": "95097448-cf87-4f4f-a4cd-a7f857e5899b",
        "id": "yCvaPJERQELn"
      },
      "source": [
        "Создадим три датасета:\n",
        "- *train_dataset*\n",
        "- *valid_dataset*\n",
        "- *test_dataset*"
      ]
    },
    {
      "cell_type": "code",
      "execution_count": null,
      "metadata": {
        "cellId": "4s5ohwy4lkk1dcnp8zds",
        "id": "bUMsSNkoQELn"
      },
      "outputs": [],
      "source": [
        "train_dataset = NERDataset(\n",
        "    token_seq=train_token_seq,\n",
        "    label_seq=train_label_seq,\n",
        "    token2idx=token2idx,\n",
        "    label2idx=label2idx,\n",
        ")\n",
        "valid_dataset = NERDataset(\n",
        "    token_seq=valid_token_seq,\n",
        "    label_seq=valid_label_seq,\n",
        "    token2idx=token2idx,\n",
        "    label2idx=label2idx,\n",
        ")\n",
        "test_dataset = NERDataset(\n",
        "    token_seq=test_token_seq,\n",
        "    label_seq=test_label_seq,\n",
        "    token2idx=token2idx,\n",
        "    label2idx=label2idx,\n",
        ")"
      ]
    },
    {
      "cell_type": "markdown",
      "metadata": {
        "cellId": "crsrw75ku94wjnm2zwjlp",
        "execution_id": "3284af4e-8013-4d74-b31a-a3619d83ac91",
        "id": "jQIq1pAWQELo"
      },
      "source": [
        "Посмотрим на то, что мы получили:"
      ]
    },
    {
      "cell_type": "code",
      "execution_count": null,
      "metadata": {
        "cellId": "lkqx817e5ig9hccsrlf4wj",
        "colab": {
          "base_uri": "https://localhost:8080/"
        },
        "id": "Q_Scync0QELo",
        "outputId": "b9d6b2e8-d457-4e61-97fb-ec0192ea4e7e"
      },
      "outputs": [
        {
          "data": {
            "text/plain": [
              "(tensor([2, 1, 3, 4, 5, 6, 7, 8, 9]), tensor([3, 0, 2, 0, 0, 0, 2, 0, 0]))"
            ]
          },
          "execution_count": 90,
          "metadata": {},
          "output_type": "execute_result"
        }
      ],
      "source": [
        "train_dataset[0]"
      ]
    },
    {
      "cell_type": "code",
      "execution_count": null,
      "metadata": {
        "cellId": "1xokmiqawscwjw2ioc6gwp",
        "colab": {
          "base_uri": "https://localhost:8080/"
        },
        "id": "zyAazaLzjQ-K",
        "outputId": "7db04bb3-f1ea-426d-f88b-24ce7df8456e"
      },
      "outputs": [
        {
          "data": {
            "text/plain": [
              "(tensor([1737,  571, 1777,  197,  687,  145,  349,  111, 1819, 1558,    9]),\n",
              " tensor([0, 0, 3, 0, 0, 0, 0, 0, 0, 0, 0]))"
            ]
          },
          "execution_count": 91,
          "metadata": {},
          "output_type": "execute_result"
        }
      ],
      "source": [
        "valid_dataset[0]"
      ]
    },
    {
      "cell_type": "code",
      "execution_count": null,
      "metadata": {
        "cellId": "8u4hz7u0vp4koay88oa1n",
        "colab": {
          "base_uri": "https://localhost:8080/"
        },
        "id": "NHuuh3YmjRNt",
        "outputId": "6daa31e1-0e45-4fb0-c6a4-5028f828a4c6"
      },
      "outputs": [
        {
          "data": {
            "text/plain": [
              "(tensor([1516,  571, 1434, 1729, 4893, 2014,   67,  310,  215, 3157, 3139,    9]),\n",
              " tensor([0, 0, 1, 0, 0, 0, 0, 4, 0, 0, 0, 0]))"
            ]
          },
          "execution_count": 92,
          "metadata": {},
          "output_type": "execute_result"
        }
      ],
      "source": [
        "test_dataset[0]"
      ]
    },
    {
      "cell_type": "code",
      "execution_count": null,
      "metadata": {
        "cellId": "e1lx8298ofcxglwmsouvwb",
        "colab": {
          "base_uri": "https://localhost:8080/"
        },
        "id": "Gox6uyF2idwZ",
        "outputId": "1ae8de24-5859-432f-e8d5-c487c6153bc2"
      },
      "outputs": [
        {
          "name": "stdout",
          "output_type": "stream",
          "text": [
            "Тесты пройдены!\n"
          ]
        }
      ],
      "source": [
        "assert len(train_dataset) == 14986, \"Неправильная длина train_dataset\"\n",
        "assert len(valid_dataset) == 3465, \"Неправильная длина valid_dataset\"\n",
        "assert len(test_dataset) == 3683, \"Неправильная длина test_dataset\"\n",
        "\n",
        "assert torch.equal(train_dataset[0][0], torch.tensor([2,1,3,4,5,6,7,8,9])), \"Неправильно сформированный train_dataset\"\n",
        "assert torch.equal(train_dataset[0][1], torch.tensor([3,0,2,0,0,0,2,0,0])), \"Неправильно сформированный train_dataset\"\n",
        "\n",
        "assert torch.equal(valid_dataset[0][0], torch.tensor([1737,571,1777,197,687,145,349,111,1819,1558,9])), \"Неправильно сформированный valid_dataset\"\n",
        "assert torch.equal(valid_dataset[0][1], torch.tensor([0,0,3,0,0,0,0,0,0,0,0])), \"Неправильно сформированный valid_dataset\"\n",
        "\n",
        "assert torch.equal(test_dataset[0][0], torch.tensor([1516,571,1434,1729,4893,2014,67,310,215,3157,3139,9])), \"Неправильно сформированный test_dataset\"\n",
        "assert torch.equal(test_dataset[0][1], torch.tensor([0,0,1,0,0,0,0,4,0,0,0,0])), \"Неправильно сформированный test_dataset\"\n",
        "\n",
        "print(\"Тесты пройдены!\")"
      ]
    },
    {
      "cell_type": "markdown",
      "metadata": {
        "cellId": "b1ittk99yz4ks72apv3hqi",
        "execution_id": "3ab55e1a-d4b3-456a-8d88-e5ec06f2eef5",
        "id": "mWjJuAk7QELp"
      },
      "source": [
        "Для того, чтобы дополнять последовательности паддингом, будем использовать параметр `collate_fn` класса `DataLoader`.\n",
        "\n",
        "Принимая последовательность пар тензоров для предложений и тегов, необходимо дополнить все последовательности до последовательности максимальной длины в батче.\n",
        "\n",
        "Используйте для дополнения спецтокен `<PAD>` для последовательностей слов / токенов и -1 для последовательностей тегов.\n",
        "\n",
        "**hint**: удобно использовать метод **torch.nn.utils.rnn**. Обратите особое внимание на параметр *batch_first*"
      ]
    },
    {
      "cell_type": "markdown",
      "metadata": {
        "cellId": "v9is0c3bgub86k7flx7b",
        "execution_id": "25e84db6-e90b-4761-9679-120c0bd84d6f",
        "id": "VZiJVM5qQELp"
      },
      "source": [
        "`Collator` можно реализовать двумя способами:\n",
        "- класс с методом `__call__`\n",
        "- функцию\n",
        "\n",
        "Мы пойдем первым путем.\n",
        "\n",
        "Инициализировать экземпляр класса `Collator` (метод `__init__`) с помощью двух параметров:\n",
        "- id `<PAD>` спецтокена для последовательностей слов / токенов\n",
        "- id `<PAD>` спецтокена для последовательностей тегов (значение -1)\n",
        "\n",
        "Метод `__call__` на вход принимает батч, а именно список кортежей того, что нам возвращается из датасета. В нашем случае это список кортежей двух int64 тензоров - `List[Tuple[torch.LongTensor, torch.LongTensor]]`.\n",
        "\n",
        "На выходе мы хотим получить два тензора:\n",
        "- западденные индексы слов / токенов\n",
        "- западденные индексы тегов\n",
        "    \n",
        "P.S. `<PAD>` значение нужно для того, чтобы при подсчете лосса легко отличать западдированные токены от других. Можно использовать параметр *ignore_index* при инициализации лосса.\n",
        "\n",
        "**Задание. Реализуйте класс коллатора NERCollator.** **<font color='red'>(1 балл)</font>**"
      ]
    },
    {
      "cell_type": "code",
      "execution_count": null,
      "metadata": {
        "cellId": "34jothjkgvs5dzj9822d6r",
        "id": "LNHNwoLnQELp"
      },
      "outputs": [],
      "source": [
        "class NERCollator:\n",
        "    \"\"\"\n",
        "    Collator that handles variable-size sentences.\n",
        "    \"\"\"\n",
        "\n",
        "    def __init__(\n",
        "        self,\n",
        "        token_padding_value: int,\n",
        "        label_padding_value: int,\n",
        "    ):\n",
        "        self.token_padding_value = token_padding_value\n",
        "        self.label_padding_value = label_padding_value\n",
        "\n",
        "    def __call__(\n",
        "        self,\n",
        "        batch: List[Tuple[torch.LongTensor, torch.LongTensor]],\n",
        "    ) -> Tuple[torch.LongTensor, torch.LongTensor]:\n",
        "\n",
        "        tokens, labels = zip(*batch)\n",
        "        # YOUR CODE HERE\n",
        "        tokens = torch.nn.utils.rnn.pad_sequence(sequences=tokens, batch_first=True, padding_value=self.token_padding_value)\n",
        "        labels = torch.nn.utils.rnn.pad_sequence(sequences=labels, batch_first=True, padding_value=self.label_padding_value)\n",
        "\n",
        "        return tokens, labels"
      ]
    },
    {
      "cell_type": "code",
      "execution_count": null,
      "metadata": {
        "cellId": "f5gizga7pu3z7q05tyvoa",
        "id": "nZUMwVQTQELq"
      },
      "outputs": [],
      "source": [
        "collator = NERCollator(\n",
        "    token_padding_value=token2idx[\"<PAD>\"],\n",
        "    label_padding_value=-1,\n",
        ")"
      ]
    },
    {
      "cell_type": "markdown",
      "metadata": {
        "cellId": "vnnmdvu2smv2kav2e9y0s",
        "execution_id": "b79c4c79-26f9-407e-9934-2323d2e1ebfd",
        "id": "Jsgfij8WQELq"
      },
      "source": [
        "Теперь всё готово, чтобы задать `DataLoader`'ы:"
      ]
    },
    {
      "cell_type": "code",
      "execution_count": null,
      "metadata": {
        "cellId": "4ife8y3vaxbwj503wwmtz",
        "id": "gFljkiBOQELr"
      },
      "outputs": [],
      "source": [
        "train_dataloader = torch.utils.data.DataLoader(\n",
        "    train_dataset,\n",
        "    batch_size=2,\n",
        "    shuffle=True,\n",
        "    collate_fn=collator,\n",
        ")\n",
        "valid_dataloader = torch.utils.data.DataLoader(\n",
        "    valid_dataset,\n",
        "    batch_size=1,  # для корректных замеров метрик оставить batch_size=1\n",
        "    shuffle=False, # для корректных замеров метрик оставить shuffle=False\n",
        "    collate_fn=collator,\n",
        ")\n",
        "test_dataloader = torch.utils.data.DataLoader(\n",
        "    test_dataset,\n",
        "    batch_size=1,  # для корректных замеров метрик оставить batch_size=1\n",
        "    shuffle=False, # для корректных замеров метрик оставить shuffle=False\n",
        "    collate_fn=collator,\n",
        ")"
      ]
    },
    {
      "cell_type": "markdown",
      "metadata": {
        "cellId": "wyj10n0gu8e4qcr1nvnvxb",
        "execution_id": "6087a11a-1556-475a-bbfa-869594c7b2dd",
        "id": "i34wGJ4uQELr"
      },
      "source": [
        "Посмотрим на то, что мы получили:"
      ]
    },
    {
      "cell_type": "code",
      "execution_count": null,
      "metadata": {
        "cellId": "5gead5s8z4d1bxi2m150y8",
        "id": "QLlr_DztQELr"
      },
      "outputs": [],
      "source": [
        "#!g1.1\n",
        "tokens, labels = next(iter(train_dataloader))\n",
        "\n",
        "tokens = tokens.to(device)\n",
        "labels = labels.to(device)"
      ]
    },
    {
      "cell_type": "code",
      "execution_count": null,
      "metadata": {
        "cellId": "mxpra51gjspdurn7xd04vg",
        "colab": {
          "base_uri": "https://localhost:8080/"
        },
        "id": "FdMMEDdbQELs",
        "outputId": "3b2085c5-98b2-4fde-b2ba-679f45d18280"
      },
      "outputs": [
        {
          "data": {
            "text/plain": [
              "tensor([[   14,  1044,  3346,  2002, 10727,    37,   908,  3880,   145,   146,\n",
              "             1, 10728,    19,    18,  2368,    37,  1052,  6079,  2922,    67,\n",
              "          8822,  8074,     9],\n",
              "        [   14,   781,   842,   711,   150,    14,  7415,    80,    73,   418,\n",
              "           111,  7772,    14,  8151,   150,    14,  3585,    67,   295,    17,\n",
              "             9,     0,     0]], device='cuda:0')"
            ]
          },
          "execution_count": 98,
          "metadata": {},
          "output_type": "execute_result"
        }
      ],
      "source": [
        "#!g1.1\n",
        "tokens"
      ]
    },
    {
      "cell_type": "code",
      "execution_count": null,
      "metadata": {
        "cellId": "i2nzcj3e80g6uni3qxwivu",
        "colab": {
          "base_uri": "https://localhost:8080/"
        },
        "id": "w--fhADKQELs",
        "outputId": "efc7b614-ad91-4b3b-859a-2389cc21289f"
      },
      "outputs": [
        {
          "data": {
            "text/plain": [
              "tensor([[ 0,  0,  0,  0,  4,  0,  0,  0,  0,  0,  2,  0,  0,  0,  1,  0,  0,  0,\n",
              "          0,  0,  2,  6,  0],\n",
              "        [ 0,  0,  0,  0,  0,  0,  0,  0,  0,  0,  0,  0,  0,  0,  0,  0,  0,  0,\n",
              "          0,  0,  0, -1, -1]], device='cuda:0')"
            ]
          },
          "execution_count": 99,
          "metadata": {},
          "output_type": "execute_result"
        }
      ],
      "source": [
        "#!g1.1\n",
        "labels"
      ]
    },
    {
      "cell_type": "code",
      "execution_count": null,
      "metadata": {
        "cellId": "hd8wp8o713978gp7z0oq0b",
        "colab": {
          "base_uri": "https://localhost:8080/"
        },
        "id": "yFeX0AYKlhGk",
        "outputId": "674c41bd-7b82-4779-a7ed-74eb9603dd1f"
      },
      "outputs": [
        {
          "name": "stdout",
          "output_type": "stream",
          "text": [
            "Тесты пройдены!\n"
          ]
        }
      ],
      "source": [
        "train_tokens, train_labels = next(iter(\n",
        "    torch.utils.data.DataLoader(\n",
        "        train_dataset,\n",
        "        batch_size=2,\n",
        "        shuffle=False,\n",
        "        collate_fn=collator,\n",
        "    )\n",
        "))\n",
        "assert torch.equal(train_tokens, torch.tensor([[ 2,  1,  3,  4,  5,  6,  7,  8,  9], [10, 11,  0,  0,  0,  0,  0,  0,  0]])), \"Похоже на ошибку в коллаторе\"\n",
        "assert torch.equal(train_labels, torch.tensor([[ 3,  0,  2,  0,  0,  0,  2,  0,  0], [ 4,  8, -1, -1, -1, -1, -1, -1, -1]])), \"Похоже на ошибку в коллаторе\"\n",
        "\n",
        "valid_tokens, valid_labels = next(iter(\n",
        "    torch.utils.data.DataLoader(\n",
        "        valid_dataset,\n",
        "        batch_size=2,\n",
        "        shuffle=False,\n",
        "        collate_fn=collator,\n",
        "    )\n",
        "))\n",
        "assert torch.equal(valid_tokens, torch.tensor([[ 1737,   571,  1777,   197,   687,   145,   349,   111,  1819,  1558, 9], [  248, 10679,     0,     0,     0,     0,     0,     0,     0,     0,    0]])), \"Похоже на ошибку в коллаторе\"\n",
        "assert torch.equal(valid_labels, torch.tensor([[ 0,  0,  3,  0,  0,  0,  0,  0,  0,  0,  0], [ 1,  0, -1, -1, -1, -1, -1, -1, -1, -1, -1]])), \"Похоже на ошибку в коллаторе\"\n",
        "\n",
        "test_tokens, test_labels = next(iter(\n",
        "    torch.utils.data.DataLoader(\n",
        "        test_dataset,\n",
        "        batch_size=2,\n",
        "        shuffle=False,\n",
        "        collate_fn=collator,\n",
        "    )\n",
        "))\n",
        "assert torch.equal(test_tokens, torch.tensor([[1516,  571, 1434, 1729, 4893, 2014,   67,  310,  215, 3157, 3139,    9], [   1,    1,    0,    0,    0,    0,    0,    0,    0,    0,    0,    0]])), \"Похоже на ошибку в коллаторе\"\n",
        "assert torch.equal(test_labels, torch.tensor([[ 0,  0,  1,  0,  0,  0,  0,  4,  0,  0,  0,  0], [ 4,  8, -1, -1, -1, -1, -1, -1, -1, -1, -1, -1]])), \"Похоже на ошибку в коллаторе\"\n",
        "\n",
        "print(\"Тесты пройдены!\")"
      ]
    },
    {
      "cell_type": "markdown",
      "metadata": {
        "cellId": "qn43k0a1xdqdd2553ks7v",
        "execution_id": "1b46edad-f811-475f-b19d-446d63f62c50",
        "id": "1Ul5gLriQELs"
      },
      "source": [
        "## Часть 2. BiLSTM-теггер (6 баллов)\n",
        "\n",
        "Определите архитектуру сети, используя библиотеку PyTorch. \n",
        "\n",
        "Ваша архитектура в этом пункте должна соответствовать стандартному теггеру:\n",
        "* Embedding слой на входе\n",
        "* LSTM (однонаправленный или двунаправленный)слой для обработки последовательности\n",
        "* Dropout (заданный отдельно или встроенный в LSTM) для уменьшения переобучения\n",
        "* Linear слой на выходе\n",
        "\n",
        "Для обучения сети используйте поэлементную кросс-энтропийную функцию потерь.\n",
        "\n",
        "**Обратите внимание**, что `<PAD>` токены не должны учавствовать в подсчёте функции потерь. В качестве оптимизатора рекомендуется использовать Adam. Для получения значений предсказаний по выходам модели используйте функцию `argmax`.\n",
        "\n",
        "**Задание. Реализуйте класс модели BiLSTM.** **<font color='red'>(2 балл)</font>**"
      ]
    },
    {
      "cell_type": "code",
      "execution_count": null,
      "metadata": {
        "cellId": "n379n9lbu7em42vgie5",
        "id": "uMiLQljZQELt"
      },
      "outputs": [],
      "source": [
        "class BiLSTM(torch.nn.Module):\n",
        "    \"\"\"\n",
        "    Bidirectional LSTM architecture.\n",
        "    \"\"\"\n",
        "\n",
        "    def __init__(\n",
        "        self,\n",
        "        num_embeddings: int,\n",
        "        embedding_dim: int,\n",
        "        hidden_size: int,\n",
        "        num_layers: int,\n",
        "        dropout: float,\n",
        "        bidirectional: bool,\n",
        "        n_classes: int,\n",
        "    ):\n",
        "        super().__init__()\n",
        "\n",
        "        # YOUR CODE HERE\n",
        "\n",
        "        self.embedding = torch.nn.Embedding(num_embeddings=num_embeddings, embedding_dim=embedding_dim)\n",
        "        self.rnn = torch.nn.LSTM(\n",
        "            input_size=embedding_dim, \n",
        "            hidden_size=hidden_size,\n",
        "            num_layers=num_layers,\n",
        "            batch_first=batch_first,\n",
        "            dropout=dropout,\n",
        "            bidirectional=bidirectional,\n",
        "        )\n",
        "        self.head = torch.nn.Linear(self.hidden_size * (2 if self.bidirectional else 1), self.n_classes)\n",
        "\n",
        "    def forward(self, tokens: torch.LongTensor) -> torch.Tensor:\n",
        "        embed = self.embedding(tokens)\n",
        "\n",
        "        # используем специальную функцию pack_padded_sequence для того, чтобы получить структуру PackedSequence\n",
        "        # которая не учитывать паддинг при проходе rnn\n",
        "        length = (tokens != 0).sum(dim=1).detach().cpu()\n",
        "        packed_embed = torch.nn.utils.rnn.pack_padded_sequence(\n",
        "            embed, length, batch_first=True, enforce_sorted=False\n",
        "          )\n",
        "        \n",
        "        # используем специальную функцию pad_packed_sequence для того, чтобы получить тензор из PackedSequence\n",
        "        self.rnn.flatten_parameters()\n",
        "        packed_rnn_output, _ = self.rnn(packed_embed)\n",
        "        rnn_output, _ = torch.nn.utils.rnn.pad_packed_sequence(\n",
        "            packed_rnn_output, batch_first=True)\n",
        "        \n",
        "        \n",
        "        logits = self.head(rnn_output)\n",
        "        return logits.transpose(1, 2)"
      ]
    },
    {
      "cell_type": "code",
      "execution_count": null,
      "metadata": {
        "cellId": "r6ipe6dakc8npolhnpcc",
        "id": "zps8HL2VQELu"
      },
      "outputs": [],
      "source": [
        "model = BiLSTM(\n",
        "    num_embeddings=len(token2idx),\n",
        "    embedding_dim=100,\n",
        "    hidden_size=100,\n",
        "    num_layers=1,\n",
        "    dropout=0.0,\n",
        "    bidirectional=True,\n",
        "    n_classes=len(label2idx),\n",
        ").to(device)"
      ]
    },
    {
      "cell_type": "code",
      "execution_count": null,
      "metadata": {
        "cellId": "p0a915g1wkbkjhfywclsi",
        "colab": {
          "base_uri": "https://localhost:8080/"
        },
        "id": "nmg2_C_oQELu",
        "outputId": "5b516299-c923-484e-82a3-f810e6077226"
      },
      "outputs": [
        {
          "data": {
            "text/plain": [
              "BiLSTM(\n",
              "  (embedding): Embedding(10952, 100)\n",
              "  (rnn): LSTM(100, 100, batch_first=True, bidirectional=True)\n",
              "  (head): Linear(in_features=200, out_features=9, bias=True)\n",
              ")"
            ]
          },
          "execution_count": 103,
          "metadata": {},
          "output_type": "execute_result"
        }
      ],
      "source": [
        "model"
      ]
    },
    {
      "cell_type": "code",
      "execution_count": null,
      "metadata": {
        "cellId": "jm85zr3xsiexnx9d4kq8m",
        "id": "sDvWB5J2QELv"
      },
      "outputs": [],
      "source": [
        "optimizer = torch.optim.Adam(model.parameters(), lr=1e-4)\n",
        "criterion = torch.nn.CrossEntropyLoss(ignore_index=-1)"
      ]
    },
    {
      "cell_type": "code",
      "execution_count": null,
      "metadata": {
        "cellId": "v5hqkbyk5uibhn1chle5d",
        "id": "Jn5Pu1UKQELv"
      },
      "outputs": [],
      "source": [
        "outputs = model(tokens)"
      ]
    },
    {
      "cell_type": "code",
      "execution_count": null,
      "metadata": {
        "cellId": "bske7kowwga75m79soola",
        "id": "n02Bsh8eQELw"
      },
      "outputs": [],
      "source": [
        "assert outputs.shape == torch.Size([2, 9, 10])\n",
        "assert 2 < criterion(outputs, labels) < 3\n",
        "\n",
        "print(\"Тесты пройдены!\")"
      ]
    },
    {
      "cell_type": "markdown",
      "metadata": {
        "cellId": "8hygnnll0ba9t6pi16r4k",
        "execution_id": "063f08c8-ee24-4526-aa0e-4e3c97b6c885",
        "id": "kjhkK9QFQELu"
      },
      "source": [
        "### Эксперименты\n",
        "\n",
        "Проведите эксперименты на данных. Настраивайте параметры по валидационной выборке, не используя тестовую. Ваше цель — настроить сеть так, чтобы качество модели по F1-macro мере на валидационной и тестовой выборках было не меньше 0.76. \n",
        "\n",
        "Сделайте выводы о качестве модели, переобучении, чувствительности архитектуры к выбору гиперпараметров. Оформите результаты экспериментов в виде мини-отчета (в этом же ipython notebook)."
      ]
    },
    {
      "cell_type": "code",
      "execution_count": null,
      "metadata": {
        "cellId": "z0fpx0khuzbpmp3fsugxg",
        "id": "f4hdrFZ9iRPi"
      },
      "outputs": [],
      "source": [
        "# создадим SummaryWriter для эксперимента с BiLSTMModel\n",
        "\n",
        "from torch.utils.tensorboard import SummaryWriter\n",
        "\n",
        "writer = SummaryWriter(log_dir=f\"logs/BiLSTMModel\")"
      ]
    },
    {
      "cell_type": "markdown",
      "metadata": {
        "cellId": "wkcsxau0rdw6jgc0pnxa",
        "execution_id": "ca404c1e-3040-4d21-935d-014b2d40d049",
        "id": "ruMTBSkQQELx"
      },
      "source": [
        "**Задание. Реализуйте функцию подсчета метрик compute_metrics.** **<font color='red'>(1 балл)</font>**"
      ]
    },
    {
      "cell_type": "code",
      "execution_count": null,
      "metadata": {
        "cellId": "4b2i3cdsebi5pwuuvbxdd",
        "id": "xkpo3JgWQELx"
      },
      "outputs": [],
      "source": [
        "from sklearn.metrics import accuracy_score, precision_score, recall_score, f1_score\n",
        "\n",
        "\n",
        "def compute_metrics(\n",
        "    outputs: torch.Tensor,\n",
        "    labels: torch.LongTensor,\n",
        ") -> Dict[str, float]:\n",
        "    \"\"\"\n",
        "    Compute NER metrics.\n",
        "    \"\"\"\n",
        "\n",
        "    metrics = {}\n",
        "\n",
        "    # YOUR CODE HERE\n",
        "    # Не забудюте отфильтровать <PAD> токен\n",
        "    y_true = labels[labels != -1].to('cpu')\n",
        "    y_pred = outputs.argmax(dim=1)[labels != -1].to('cpu')\n",
        "\n",
        "    # accuracy\n",
        "    accuracy = accuracy_score(\n",
        "        y_true=y_true,\n",
        "        y_pred=y_pred,\n",
        "    )\n",
        "\n",
        "    # precision\n",
        "    precision_micro = precision_score(\n",
        "        y_true=y_true,\n",
        "        y_pred=y_pred,\n",
        "        average=\"micro\",\n",
        "        zero_division=0,\n",
        "    )\n",
        "    precision_macro = precision_score(\n",
        "        y_true=y_true,\n",
        "        y_pred=y_pred,\n",
        "        average=\"macro\",\n",
        "        zero_division=0,\n",
        "    )\n",
        "    precision_weighted = precision_score(\n",
        "        y_true=y_true,\n",
        "        y_pred=y_pred,\n",
        "        average=\"weighted\",\n",
        "        zero_division=0,\n",
        "    )\n",
        "\n",
        "    # recall\n",
        "    recall_micro = recall_score(\n",
        "        y_true=y_true,\n",
        "        y_pred=y_pred,\n",
        "        average=\"micro\",\n",
        "        zero_division=0,\n",
        "        \n",
        "    )\n",
        "    recall_macro = recall_score(\n",
        "        y_true=y_true,\n",
        "        y_pred=y_pred,\n",
        "        average=\"macro\",\n",
        "        zero_division=0,\n",
        "    )\n",
        "    recall_weighted = recall_score(\n",
        "        y_true=y_true,\n",
        "        y_pred=y_pred,\n",
        "        average=\"weighted\",\n",
        "        zero_division=0,\n",
        "    )\n",
        "\n",
        "    # f1\n",
        "    f1_micro = f1_score(\n",
        "        y_true=y_true,\n",
        "        y_pred=y_pred,\n",
        "        average=\"micro\",\n",
        "        zero_division=0,\n",
        "    )\n",
        "    f1_macro = f1_score(\n",
        "        y_true=y_true,\n",
        "        y_pred=y_pred,\n",
        "        average=\"macro\",\n",
        "        zero_division=0,\n",
        "    )\n",
        "    f1_weighted = f1_score(\n",
        "        y_true=y_true,\n",
        "        y_pred=y_pred,\n",
        "        average=\"weighted\",\n",
        "        zero_division=0,\n",
        "    )\n",
        "\n",
        "    metrics[\"accuracy\"] = accuracy\n",
        "\n",
        "    metrics[\"precision_micro\"]    = precision_micro\n",
        "    metrics[\"precision_macro\"]    = precision_macro\n",
        "    metrics[\"precision_weighted\"] = precision_weighted\n",
        "\n",
        "    metrics[\"recall_micro\"]    = recall_micro\n",
        "    metrics[\"recall_macro\"]    = recall_macro\n",
        "    metrics[\"recall_weighted\"] = recall_weighted\n",
        "\n",
        "    metrics[\"f1_micro\"]    = f1_micro\n",
        "    metrics[\"f1_macro\"]    = f1_macro\n",
        "    metrics[\"f1_weighted\"] = f1_weighted\n",
        "\n",
        "    return metrics"
      ]
    },
    {
      "cell_type": "markdown",
      "metadata": {
        "cellId": "18avoc2fdxepsvntgoubh",
        "execution_id": "8599d1be-d2e6-4acc-9f06-2f593fdba372",
        "id": "Dzj89UygQEL0"
      },
      "source": [
        "**Задание. Реализуйте функции обучения и тестирования train_epoch и evaluate_epoch.** **<font color='red'>(2 балла)</font>**"
      ]
    },
    {
      "cell_type": "code",
      "execution_count": null,
      "metadata": {
        "cellId": "yz4cy5cpjaasnr3ug2twhd",
        "id": "sG3vQbc_QEL0"
      },
      "outputs": [],
      "source": [
        "def train_epoch(\n",
        "    model: torch.nn.Module,\n",
        "    dataloader: torch.utils.data.DataLoader,\n",
        "    optimizer: torch.optim.Optimizer,\n",
        "    criterion: torch.nn.Module,\n",
        "    writer: SummaryWriter,\n",
        "    device: torch.device,\n",
        "    epoch: int,\n",
        ") -> None:\n",
        "    \"\"\"\n",
        "    One training cycle (loop).\n",
        "    \"\"\"\n",
        "\n",
        "    model.train()\n",
        "\n",
        "    epoch_loss = []\n",
        "    batch_metrics_list = defaultdict(list)\n",
        "\n",
        "    for i, (tokens, labels) in tqdm(\n",
        "        enumerate(dataloader),\n",
        "        total=len(dataloader),\n",
        "        desc=\"loop over train batches\",\n",
        "    ):\n",
        "\n",
        "        tokens, labels = tokens.to(device), labels.to(device)\n",
        "\n",
        "        # YOUR CODE HERE\n",
        "        # Подсчет лосса и шаг оптимизатора\n",
        "        outputs = model(tokens)\n",
        "        loss = criterion(outputs, labels)\n",
        "        loss.backward()\n",
        "        optimizer.step()\n",
        "\n",
        "        epoch_loss.append(loss.item())\n",
        "        writer.add_scalar(\n",
        "            \"batch loss / train\", loss.item(), epoch * len(dataloader) + i\n",
        "        )\n",
        "\n",
        "        with torch.no_grad():\n",
        "            model.eval()\n",
        "            outputs_inference = model(tokens)\n",
        "            model.train()\n",
        "\n",
        "        batch_metrics = compute_metrics(\n",
        "            outputs=outputs_inference,\n",
        "            labels=labels,\n",
        "        )\n",
        "\n",
        "        for metric_name, metric_value in batch_metrics.items():\n",
        "            batch_metrics_list[metric_name].append(metric_value)\n",
        "            writer.add_scalar(\n",
        "                f\"batch {metric_name} / train\",\n",
        "                metric_value,\n",
        "                epoch * len(dataloader) + i,\n",
        "            )\n",
        "\n",
        "    avg_loss = np.mean(epoch_loss)\n",
        "    print(f\"Train loss: {avg_loss}\\n\")\n",
        "    writer.add_scalar(\"loss / train\", avg_loss, epoch)\n",
        "\n",
        "    for metric_name, metric_value_list in batch_metrics_list.items():\n",
        "        metric_value = np.mean(metric_value_list)\n",
        "        print(f\"Train {metric_name}: {metric_value}\\n\")\n",
        "        writer.add_scalar(f\"{metric_name} / train\", metric_value, epoch)"
      ]
    },
    {
      "cell_type": "code",
      "execution_count": null,
      "metadata": {
        "cellId": "bv2iqoa1az63rwjcwreym9",
        "id": "p4ztFogtQEL0"
      },
      "outputs": [],
      "source": [
        "def evaluate_epoch(\n",
        "    model: torch.nn.Module,\n",
        "    dataloader: torch.utils.data.DataLoader,\n",
        "    criterion: torch.nn.Module,\n",
        "    writer: SummaryWriter,\n",
        "    device: torch.device,\n",
        "    epoch: int,\n",
        ") -> None:\n",
        "    \"\"\"\n",
        "    One evaluation cycle (loop).\n",
        "    \"\"\"\n",
        "\n",
        "    model.eval()\n",
        "\n",
        "    epoch_loss = []\n",
        "    batch_metrics_list = defaultdict(list)\n",
        "\n",
        "    with torch.no_grad():\n",
        "\n",
        "        for i, (tokens, labels) in tqdm(\n",
        "            enumerate(dataloader),\n",
        "            total=len(dataloader),\n",
        "            desc=\"loop over test batches\",\n",
        "        ):\n",
        "\n",
        "            tokens, labels = tokens.to(device), labels.to(device)\n",
        "\n",
        "            # YOUR CODE HERE\n",
        "            # Подсчет лосса\n",
        "            outputs = model(tokens)\n",
        "            loss = criterion(outputs, labels)\n",
        "\n",
        "            epoch_loss.append(loss.item())\n",
        "            writer.add_scalar(\n",
        "                \"batch loss / test\", loss.item(), epoch * len(dataloader) + i\n",
        "            )\n",
        "\n",
        "            batch_metrics = compute_metrics(\n",
        "                outputs=outputs,\n",
        "                labels=labels,\n",
        "            )\n",
        "\n",
        "            for metric_name, metric_value in batch_metrics.items():\n",
        "                batch_metrics_list[metric_name].append(metric_value)\n",
        "                writer.add_scalar(\n",
        "                    f\"batch {metric_name} / test\",\n",
        "                    metric_value,\n",
        "                    epoch * len(dataloader) + i,\n",
        "                )\n",
        "\n",
        "        avg_loss = np.mean(epoch_loss)\n",
        "        print(f\"Test loss:  {avg_loss}\\n\")\n",
        "        writer.add_scalar(\"loss / test\", avg_loss, epoch)\n",
        "\n",
        "        for metric_name, metric_value_list in batch_metrics_list.items():\n",
        "            metric_value = np.mean(metric_value_list)\n",
        "            print(f\"Test {metric_name}: {metric_value}\\n\")\n",
        "            writer.add_scalar(f\"{metric_name} / test\", np.mean(metric_value), epoch)"
      ]
    },
    {
      "cell_type": "code",
      "execution_count": null,
      "metadata": {
        "cellId": "4f3qtwto0pf9depnldmfnn",
        "id": "z7Z5MTNzQEL1"
      },
      "outputs": [],
      "source": [
        "def train(\n",
        "    n_epochs: int,\n",
        "    model: torch.nn.Module,\n",
        "    train_dataloader: torch.utils.data.DataLoader,\n",
        "    test_dataloader: torch.utils.data.DataLoader,\n",
        "    optimizer: torch.optim.Optimizer,\n",
        "    criterion: torch.nn.Module,\n",
        "    writer: SummaryWriter,\n",
        "    device: torch.device,\n",
        ") -> None:\n",
        "    \"\"\"\n",
        "    Training loop.\n",
        "    \"\"\"\n",
        "\n",
        "    for epoch in range(n_epochs):\n",
        "\n",
        "        print(f\"Epoch [{epoch+1} / {n_epochs}]\\n\")\n",
        "\n",
        "        train_epoch(\n",
        "            model=model,\n",
        "            dataloader=train_dataloader,\n",
        "            optimizer=optimizer,\n",
        "            criterion=criterion,\n",
        "            writer=writer,\n",
        "            device=device,\n",
        "            epoch=epoch,\n",
        "        )\n",
        "        evaluate_epoch(\n",
        "            model=model,\n",
        "            dataloader=test_dataloader,\n",
        "            criterion=criterion,\n",
        "            writer=writer,\n",
        "            device=device,\n",
        "            epoch=epoch,\n",
        "        )"
      ]
    },
    {
      "cell_type": "markdown",
      "metadata": {
        "cellId": "0p1svwdtudnfaih08ev2ife",
        "execution_id": "ae2a3451-7e2e-4cf3-b990-a21a3e597b53",
        "id": "xTxfU0BfQEL1"
      },
      "source": [
        "**Задание. Проведите эксперименты.** **<font color='red'>(2 балла)</font>**\n"
      ]
    },
    {
      "cell_type": "code",
      "execution_count": null,
      "metadata": {
        "cellId": "y007ii5dxqi9trsimynpgf",
        "id": "GUd5ecZF21B5"
      },
      "outputs": [],
      "source": [
        "train_dataloader = torch.utils.data.DataLoader(\n",
        "    train_dataset,\n",
        "    batch_size=64,\n",
        "    shuffle=True,\n",
        "    collate_fn=collator,\n",
        ")\n",
        "valid_dataloader = torch.utils.data.DataLoader(\n",
        "    valid_dataset,\n",
        "    batch_size=1,  # для корректных замеров метрик оставить batch_size=1\n",
        "    shuffle=False, # для корректных замеров метрик оставить shuffle=False\n",
        "    collate_fn=collator,\n",
        ")\n",
        "test_dataloader = torch.utils.data.DataLoader(\n",
        "    test_dataset,\n",
        "    batch_size=1,  # для корректных замеров метрик оставить batch_size=1\n",
        "    shuffle=False, # для корректных замеров метрик оставить shuffle=False\n",
        "    collate_fn=collator,\n",
        ")"
      ]
    },
    {
      "cell_type": "code",
      "execution_count": null,
      "metadata": {
        "cellId": "34j3eyjxqodf7i15b9qk3o",
        "id": "yz6mjGZUQEL2"
      },
      "outputs": [],
      "source": [
        "# YOUR CODE HERE\n",
        "\n",
        "model = BiLSTM(\n",
        "    num_embeddings=len(token2idx),\n",
        "    embedding_dim=100,\n",
        "    hidden_size=100,\n",
        "    num_layers=1,\n",
        "    dropout=0.0,\n",
        "    bidirectional=True,\n",
        "    n_classes=len(label2idx),\n",
        ").to(device)\n",
        "optimizer = torch.optim.Adam(model.parameters(), lr=1e-4)\n",
        "criterion = torch.nn.CrossEntropyLoss(ignore_index=-1)"
      ]
    },
    {
      "cell_type": "code",
      "execution_count": null,
      "metadata": {
        "cellId": "hhgjaxc7gps1o2fmgwue0k",
        "colab": {
          "base_uri": "https://localhost:8080/"
        },
        "id": "l3UurToV2kvg",
        "outputId": "f5acfb6b-f50a-4f1b-8da9-d90246ebc94e"
      },
      "outputs": [
        {
          "name": "stdout",
          "output_type": "stream",
          "text": [
            "Epoch [1 / 5]\n",
            "\n",
            "Train loss: 1.340387851633924\n",
            "\n",
            "Train accuracy: 0.7800232860729577\n",
            "\n",
            "Train precision_micro: 0.7800232860729577\n",
            "\n",
            "Train precision_macro: 0.12487743118296397\n",
            "\n",
            "Train precision_weighted: 0.7065355575856521\n",
            "\n",
            "Train recall_micro: 0.7800232860729577\n",
            "\n",
            "Train recall_macro: 0.11505866140037566\n",
            "\n",
            "Train recall_weighted: 0.7800232860729577\n",
            "\n",
            "Train f1_micro: 0.7800232860729577\n",
            "\n",
            "Train f1_macro: 0.10638874134578043\n",
            "\n",
            "Train f1_weighted: 0.7301206576913432\n",
            "\n",
            "Test loss:  1.0439296268230644\n",
            "\n",
            "Test accuracy: 0.7783905316670332\n",
            "\n",
            "Test precision_micro: 0.7783905316670332\n",
            "\n",
            "Test precision_macro: 0.4453676295427932\n",
            "\n",
            "Test precision_weighted: 0.6560295443160609\n",
            "\n",
            "Test recall_micro: 0.7783905316670332\n",
            "\n",
            "Test recall_macro: 0.5162441440509592\n",
            "\n",
            "Test recall_weighted: 0.7783905316670332\n",
            "\n",
            "Test f1_micro: 0.7783905316670332\n",
            "\n",
            "Test f1_macro: 0.4713554576707855\n",
            "\n",
            "Test f1_weighted: 0.7032792585618143\n",
            "\n",
            "Epoch [2 / 5]\n",
            "\n",
            "Train loss: 0.7452869904802201\n",
            "\n",
            "Train accuracy: 0.8326160600325224\n",
            "\n",
            "Train precision_micro: 0.8326160600325224\n",
            "\n",
            "Train precision_macro: 0.14903012048911565\n",
            "\n",
            "Train precision_weighted: 0.7115325738507038\n",
            "\n",
            "Train recall_micro: 0.8326160600325224\n",
            "\n",
            "Train recall_macro: 0.11510199326023443\n",
            "\n",
            "Train recall_weighted: 0.8326160600325224\n",
            "\n",
            "Train f1_micro: 0.8326160600325224\n",
            "\n",
            "Train f1_macro: 0.10787530353555289\n",
            "\n",
            "Train f1_weighted: 0.7588046306571581\n",
            "\n",
            "Test loss:  0.8189566579002289\n",
            "\n",
            "Test accuracy: 0.7808746081105349\n",
            "\n",
            "Test precision_micro: 0.7808746081105349\n",
            "\n",
            "Test precision_macro: 0.4481029529801148\n",
            "\n",
            "Test precision_weighted: 0.6587373942959297\n",
            "\n",
            "Test recall_micro: 0.7808746081105349\n",
            "\n",
            "Test recall_macro: 0.5185899029470846\n",
            "\n",
            "Test recall_weighted: 0.7808746081105349\n",
            "\n",
            "Test f1_micro: 0.7808746081105349\n",
            "\n",
            "Test f1_macro: 0.47403943866397497\n",
            "\n",
            "Test f1_weighted: 0.7061206744345756\n",
            "\n",
            "Epoch [3 / 5]\n",
            "\n",
            "Train loss: 0.6505471639176632\n",
            "\n",
            "Train accuracy: 0.8337392378401004\n",
            "\n",
            "Train precision_micro: 0.8337392378401004\n",
            "\n",
            "Train precision_macro: 0.15541411568240673\n",
            "\n",
            "Train precision_weighted: 0.7120997629932\n",
            "\n",
            "Train recall_micro: 0.8337392378401004\n",
            "\n",
            "Train recall_macro: 0.11988917134256419\n",
            "\n",
            "Train recall_weighted: 0.8337392378401004\n",
            "\n",
            "Train f1_micro: 0.8337392378401004\n",
            "\n",
            "Train f1_macro: 0.11352317372415922\n",
            "\n",
            "Train f1_weighted: 0.7602263254398927\n",
            "\n",
            "Test loss:  0.7717642036645678\n",
            "\n",
            "Test accuracy: 0.7834744555056351\n",
            "\n",
            "Test precision_micro: 0.7834744555056351\n",
            "\n",
            "Test precision_macro: 0.45324234059746255\n",
            "\n",
            "Test precision_weighted: 0.6643296424121656\n",
            "\n",
            "Test recall_micro: 0.7834744555056351\n",
            "\n",
            "Test recall_macro: 0.5214895542246167\n",
            "\n",
            "Test recall_weighted: 0.7834744555056351\n",
            "\n",
            "Test f1_micro: 0.7834744555056351\n",
            "\n",
            "Test f1_macro: 0.4783381425328286\n",
            "\n",
            "Test f1_weighted: 0.71065159746768\n",
            "\n",
            "Epoch [4 / 5]\n",
            "\n",
            "Train loss: 0.572536341941103\n",
            "\n",
            "Train accuracy: 0.8397362436434636\n",
            "\n",
            "Train precision_micro: 0.8397362436434636\n",
            "\n",
            "Train precision_macro: 0.29416586562160696\n",
            "\n",
            "Train precision_weighted: 0.7573931694489523\n",
            "\n",
            "Train recall_micro: 0.8397362436434636\n",
            "\n",
            "Train recall_macro: 0.14953632573805864\n",
            "\n",
            "Train recall_weighted: 0.8397362436434636\n",
            "\n",
            "Train f1_micro: 0.8397362436434636\n",
            "\n",
            "Train f1_macro: 0.1607912787296176\n",
            "\n",
            "Train f1_weighted: 0.7783294442481521\n",
            "\n",
            "Test loss:  0.6712459925667843\n",
            "\n",
            "Test accuracy: 0.808226403040304\n",
            "\n",
            "Test precision_micro: 0.808226403040304\n",
            "\n",
            "Test precision_macro: 0.5123941335737802\n",
            "\n",
            "Test precision_weighted: 0.7181596908807668\n",
            "\n",
            "Test recall_micro: 0.808226403040304\n",
            "\n",
            "Test recall_macro: 0.5584644657841986\n",
            "\n",
            "Test recall_weighted: 0.808226403040304\n",
            "\n",
            "Test f1_micro: 0.808226403040304\n",
            "\n",
            "Test f1_macro: 0.5279690713424425\n",
            "\n",
            "Test f1_weighted: 0.7527374253563525\n",
            "\n",
            "Epoch [5 / 5]\n",
            "\n",
            "Train loss: 0.49412773670034205\n",
            "\n",
            "Train accuracy: 0.8594704321750134\n",
            "\n",
            "Train precision_micro: 0.8594704321750134\n",
            "\n",
            "Train precision_macro: 0.3817656651396316\n",
            "\n",
            "Train precision_weighted: 0.8077389183121074\n",
            "\n",
            "Train recall_micro: 0.8594704321750134\n",
            "\n",
            "Train recall_macro: 0.23408001227537692\n",
            "\n",
            "Train recall_weighted: 0.8594704321750134\n",
            "\n",
            "Train f1_micro: 0.8594704321750134\n",
            "\n",
            "Train f1_macro: 0.25783935078380815\n",
            "\n",
            "Train f1_weighted: 0.8209155456104772\n",
            "\n",
            "Test loss:  0.5954406389095088\n",
            "\n",
            "Test accuracy: 0.8255445702778396\n",
            "\n",
            "Test precision_micro: 0.8255445702778396\n",
            "\n",
            "Test precision_macro: 0.5548523373395813\n",
            "\n",
            "Test precision_weighted: 0.7626614760540871\n",
            "\n",
            "Test recall_micro: 0.8255445702778396\n",
            "\n",
            "Test recall_macro: 0.5852651807470235\n",
            "\n",
            "Test recall_weighted: 0.8255445702778396\n",
            "\n",
            "Test f1_micro: 0.8255445702778396\n",
            "\n",
            "Test f1_macro: 0.5628146490682057\n",
            "\n",
            "Test f1_weighted: 0.7853741358661094\n",
            "\n"
          ]
        },
        {
          "name": "stderr",
          "output_type": "stream",
          "text": [
            "loop over train batches: 100%|██████████| 235/235 [00:11<00:00, 21.20it/s]\n",
            "loop over test batches: 100%|██████████| 3683/3683 [00:50<00:00, 73.22it/s]\n",
            "loop over train batches: 100%|██████████| 235/235 [00:08<00:00, 27.21it/s]\n",
            "loop over test batches: 100%|██████████| 3683/3683 [00:50<00:00, 73.66it/s]\n",
            "loop over train batches: 100%|██████████| 235/235 [00:08<00:00, 27.14it/s]\n",
            "loop over test batches: 100%|██████████| 3683/3683 [00:50<00:00, 73.42it/s]\n",
            "loop over train batches: 100%|██████████| 235/235 [00:08<00:00, 27.00it/s]\n",
            "loop over test batches: 100%|██████████| 3683/3683 [00:50<00:00, 73.66it/s]\n",
            "loop over train batches: 100%|██████████| 235/235 [00:08<00:00, 27.32it/s]\n",
            "loop over test batches: 100%|██████████| 3683/3683 [00:49<00:00, 74.31it/s]\n"
          ]
        }
      ],
      "source": [
        "train(\n",
        "    n_epochs=5,\n",
        "    model=model,\n",
        "    train_dataloader=train_dataloader,\n",
        "    test_dataloader=test_dataloader,\n",
        "    optimizer=optimizer,\n",
        "    criterion=criterion,\n",
        "    writer=writer,\n",
        "    device=device\n",
        ")"
      ]
    },
    {
      "cell_type": "code",
      "execution_count": null,
      "metadata": {
        "cellId": "v9v8g1amulqyd6w7z2vh",
        "colab": {
          "base_uri": "https://localhost:8080/"
        },
        "id": "V4mT3OLFBesD",
        "outputId": "29973c54-f481-41d3-85c5-6348fd6d5c7f"
      },
      "outputs": [
        {
          "name": "stdout",
          "output_type": "stream",
          "text": [
            "Test loss:  0.548710203392587\n",
            "\n",
            "Test accuracy: 0.8374598545711688\n",
            "\n",
            "Test precision_micro: 0.8374598545711688\n",
            "\n",
            "Test precision_macro: 0.5636226872568868\n",
            "\n",
            "Test precision_weighted: 0.7838684491410948\n",
            "\n",
            "Test recall_micro: 0.8374598545711688\n",
            "\n",
            "Test recall_macro: 0.5849003595444078\n",
            "\n",
            "Test recall_weighted: 0.8374598545711688\n",
            "\n",
            "Test f1_micro: 0.8374598545711688\n",
            "\n",
            "Test f1_macro: 0.5670321818673726\n",
            "\n",
            "Test f1_weighted: 0.8028337602965453\n",
            "\n"
          ]
        },
        {
          "name": "stderr",
          "output_type": "stream",
          "text": [
            "loop over test batches: 100%|██████████| 3465/3465 [00:47<00:00, 72.23it/s]\n"
          ]
        }
      ],
      "source": [
        "evaluate_epoch(model, valid_dataloader, criterion, writer, device, -1)"
      ]
    },
    {
      "cell_type": "code",
      "execution_count": null,
      "metadata": {
        "cellId": "ai39ofy953nmy1i30v4ze",
        "id": "ey71Cs_EhUFi"
      },
      "outputs": [],
      "source": [
        "model_2 = BiLSTM(\n",
        "    num_embeddings=len(token2idx),\n",
        "    embedding_dim=100,\n",
        "    hidden_size=100,\n",
        "    num_layers=1,\n",
        "    dropout=0.0,\n",
        "    bidirectional=True,\n",
        "    n_classes=len(label2idx),\n",
        ").to(device)\n",
        "optimizer_2 = torch.optim.Adam(model_2.parameters(), lr=1e-4)\n",
        "criterion_2 = torch.nn.CrossEntropyLoss(ignore_index=-1)"
      ]
    },
    {
      "cell_type": "code",
      "execution_count": null,
      "metadata": {
        "cellId": "lf5ea7t3rcv2kzknd4na9",
        "id": "aVy0ItkUUpLt"
      },
      "outputs": [],
      "source": [
        "writer = SummaryWriter(log_dir=f\"logs/BiLSTMModel\")"
      ]
    },
    {
      "cell_type": "code",
      "execution_count": null,
      "metadata": {
        "cellId": "bfpo5nm9zyacl3yt3b4mo",
        "colab": {
          "base_uri": "https://localhost:8080/"
        },
        "id": "O0RysE_ZhdE9",
        "outputId": "ed221872-5105-444f-cbf3-2bf83a1ec7b1"
      },
      "outputs": [
        {
          "name": "stdout",
          "output_type": "stream",
          "text": [
            "Epoch [1 / 15]\n",
            "\n",
            "Train loss: 1.3718241813335013\n",
            "\n",
            "Train accuracy: 0.7518183019250603\n",
            "\n",
            "Train precision_micro: 0.7518183019250603\n",
            "\n",
            "Train precision_macro: 0.11543903786563312\n",
            "\n",
            "Train precision_weighted: 0.7015755805950352\n",
            "\n",
            "Train recall_micro: 0.7518183019250603\n",
            "\n",
            "Train recall_macro: 0.11492218603409853\n",
            "\n",
            "Train recall_weighted: 0.7518183019250603\n",
            "\n",
            "Train f1_micro: 0.7518183019250603\n",
            "\n",
            "Train f1_macro: 0.102477525829174\n",
            "\n",
            "Train f1_weighted: 0.7072946074842652\n",
            "\n",
            "Test loss:  1.1245378672059079\n",
            "\n",
            "Test accuracy: 0.7815485420881443\n",
            "\n",
            "Test precision_micro: 0.7815485420881443\n",
            "\n",
            "Test precision_macro: 0.4483926824456631\n",
            "\n",
            "Test precision_weighted: 0.6584215852124267\n",
            "\n",
            "Test recall_micro: 0.7815485420881443\n",
            "\n",
            "Test recall_macro: 0.5197041102620793\n",
            "\n",
            "Test recall_weighted: 0.7815485420881443\n",
            "\n",
            "Test f1_micro: 0.7815485420881443\n",
            "\n",
            "Test f1_macro: 0.47461868123335743\n",
            "\n",
            "Test f1_weighted: 0.7061467880516625\n",
            "\n",
            "Epoch [2 / 15]\n",
            "\n",
            "Train loss: 0.7618148679428912\n",
            "\n",
            "Train accuracy: 0.8330614732371598\n",
            "\n",
            "Train precision_micro: 0.8330614732371598\n",
            "\n",
            "Train precision_macro: 0.14605124804179379\n",
            "\n",
            "Train precision_weighted: 0.7093432649115633\n",
            "\n",
            "Train recall_micro: 0.8330614732371598\n",
            "\n",
            "Train recall_macro: 0.11533930319428543\n",
            "\n",
            "Train recall_weighted: 0.8330614732371598\n",
            "\n",
            "Train f1_micro: 0.8330614732371598\n",
            "\n",
            "Train f1_macro: 0.10795951262231697\n",
            "\n",
            "Train f1_weighted: 0.7589276635932253\n",
            "\n",
            "Test loss:  0.8370609724817799\n",
            "\n",
            "Test accuracy: 0.7822894943561501\n",
            "\n",
            "Test precision_micro: 0.7822894943561501\n",
            "\n",
            "Test precision_macro: 0.4493627874798094\n",
            "\n",
            "Test precision_weighted: 0.6598855970250658\n",
            "\n",
            "Test recall_micro: 0.7822894943561501\n",
            "\n",
            "Test recall_macro: 0.5202075494873485\n",
            "\n",
            "Test recall_weighted: 0.7822894943561501\n",
            "\n",
            "Test f1_micro: 0.78228949435615\n",
            "\n",
            "Test f1_macro: 0.47540463999891863\n",
            "\n",
            "Test f1_weighted: 0.7073358244225193\n",
            "\n",
            "Epoch [3 / 15]\n",
            "\n",
            "Train loss: 0.6622351742805319\n",
            "\n",
            "Train accuracy: 0.8336572888618028\n",
            "\n",
            "Train precision_micro: 0.8336572888618028\n",
            "\n",
            "Train precision_macro: 0.14697704480668694\n",
            "\n",
            "Train precision_weighted: 0.7104250150198897\n",
            "\n",
            "Train recall_micro: 0.8336572888618028\n",
            "\n",
            "Train recall_macro: 0.11733435346610915\n",
            "\n",
            "Train recall_weighted: 0.8336572888618028\n",
            "\n",
            "Train f1_micro: 0.8336572888618028\n",
            "\n",
            "Train f1_macro: 0.11047151967902791\n",
            "\n",
            "Train f1_weighted: 0.7597415328073085\n",
            "\n",
            "Test loss:  0.7885830063565538\n",
            "\n",
            "Test accuracy: 0.7819769270650382\n",
            "\n",
            "Test precision_micro: 0.7819769270650382\n",
            "\n",
            "Test precision_macro: 0.4513203580505801\n",
            "\n",
            "Test precision_weighted: 0.66205671727509\n",
            "\n",
            "Test recall_micro: 0.7819769270650382\n",
            "\n",
            "Test recall_macro: 0.5206392809659989\n",
            "\n",
            "Test recall_weighted: 0.7819769270650382\n",
            "\n",
            "Test f1_micro: 0.7819769270650382\n",
            "\n",
            "Test f1_macro: 0.476538009960043\n",
            "\n",
            "Test f1_weighted: 0.7082969716213072\n",
            "\n",
            "Epoch [4 / 15]\n",
            "\n",
            "Train loss: 0.5790923523141983\n",
            "\n",
            "Train accuracy: 0.8407359776758753\n",
            "\n",
            "Train precision_micro: 0.8407359776758753\n",
            "\n",
            "Train precision_macro: 0.28761964673326\n",
            "\n",
            "Train precision_weighted: 0.7619506987568815\n",
            "\n",
            "Train recall_micro: 0.8407359776758753\n",
            "\n",
            "Train recall_macro: 0.14890251923559794\n",
            "\n",
            "Train recall_weighted: 0.8407359776758753\n",
            "\n",
            "Train f1_micro: 0.8407359776758753\n",
            "\n",
            "Train f1_macro: 0.15858001716266823\n",
            "\n",
            "Train f1_weighted: 0.7794567579891432\n",
            "\n",
            "Test loss:  0.6838446094573835\n",
            "\n",
            "Test accuracy: 0.8052672602836208\n",
            "\n",
            "Test precision_micro: 0.8052672602836208\n",
            "\n",
            "Test precision_macro: 0.5080591047489985\n",
            "\n",
            "Test precision_weighted: 0.7144396290606095\n",
            "\n",
            "Test recall_micro: 0.8052672602836208\n",
            "\n",
            "Test recall_macro: 0.5551148042704876\n",
            "\n",
            "Test recall_weighted: 0.8052672602836208\n",
            "\n",
            "Test f1_micro: 0.8052672602836208\n",
            "\n",
            "Test f1_macro: 0.5236062126010295\n",
            "\n",
            "Test f1_weighted: 0.7487466065621742\n",
            "\n",
            "Epoch [5 / 15]\n",
            "\n",
            "Train loss: 0.4921405478994897\n",
            "\n",
            "Train accuracy: 0.8594780772992904\n",
            "\n",
            "Train precision_micro: 0.8594780772992904\n",
            "\n",
            "Train precision_macro: 0.3692331613112063\n",
            "\n",
            "Train precision_weighted: 0.8065518881736087\n",
            "\n",
            "Train recall_micro: 0.8594780772992904\n",
            "\n",
            "Train recall_macro: 0.2292153298162238\n",
            "\n",
            "Train recall_weighted: 0.8594780772992904\n",
            "\n",
            "Train f1_micro: 0.8594780772992905\n",
            "\n",
            "Train f1_macro: 0.25007812931775003\n",
            "\n",
            "Train f1_weighted: 0.8201140360284089\n",
            "\n",
            "Test loss:  0.6034500282382966\n",
            "\n",
            "Test accuracy: 0.8256296962575974\n",
            "\n",
            "Test precision_micro: 0.8256296962575974\n",
            "\n",
            "Test precision_macro: 0.5572843282328209\n",
            "\n",
            "Test precision_weighted: 0.7597319190733974\n",
            "\n",
            "Test recall_micro: 0.8256296962575974\n",
            "\n",
            "Test recall_macro: 0.5885552869981951\n",
            "\n",
            "Test recall_weighted: 0.8256296962575974\n",
            "\n",
            "Test f1_micro: 0.8256296962575974\n",
            "\n",
            "Test f1_macro: 0.5653996911021091\n",
            "\n",
            "Test f1_weighted: 0.7837001999271936\n",
            "\n",
            "Epoch [6 / 15]\n",
            "\n",
            "Train loss: 0.4021989459687091\n",
            "\n",
            "Train accuracy: 0.8808961127507038\n",
            "\n",
            "Train precision_micro: 0.8808961127507038\n",
            "\n",
            "Train precision_macro: 0.454194977785437\n",
            "\n",
            "Train precision_weighted: 0.8522567721106229\n",
            "\n",
            "Train recall_micro: 0.8808961127507038\n",
            "\n",
            "Train recall_macro: 0.31635960348144715\n",
            "\n",
            "Train recall_weighted: 0.8808961127507038\n",
            "\n",
            "Train f1_micro: 0.8808961127507038\n",
            "\n",
            "Train f1_macro: 0.3296140034206036\n",
            "\n",
            "Train f1_weighted: 0.8560685446975865\n",
            "\n",
            "Test loss:  0.5533781270037587\n",
            "\n",
            "Test accuracy: 0.8377529348985501\n",
            "\n",
            "Test precision_micro: 0.8377529348985501\n",
            "\n",
            "Test precision_macro: 0.5884968689394059\n",
            "\n",
            "Test precision_weighted: 0.7952069570163217\n",
            "\n",
            "Test recall_micro: 0.8377529348985501\n",
            "\n",
            "Test recall_macro: 0.6099614823596097\n",
            "\n",
            "Test recall_weighted: 0.8377529348985501\n",
            "\n",
            "Test f1_micro: 0.8377529348985501\n",
            "\n",
            "Test f1_macro: 0.5919784998381565\n",
            "\n",
            "Test f1_weighted: 0.8090818250322301\n",
            "\n",
            "Epoch [7 / 15]\n",
            "\n",
            "Train loss: 0.33775697185638104\n",
            "\n",
            "Train accuracy: 0.8999431778077812\n",
            "\n",
            "Train precision_micro: 0.8999431778077812\n",
            "\n",
            "Train precision_macro: 0.5538457126225511\n",
            "\n",
            "Train precision_weighted: 0.8887669805464089\n",
            "\n",
            "Train recall_micro: 0.8999431778077812\n",
            "\n",
            "Train recall_macro: 0.40906338443830126\n",
            "\n",
            "Train recall_weighted: 0.8999431778077812\n",
            "\n",
            "Train f1_micro: 0.8999431778077812\n",
            "\n",
            "Train f1_macro: 0.42462807204918807\n",
            "\n",
            "Train f1_weighted: 0.8855263004027579\n",
            "\n",
            "Test loss:  0.5301653091909013\n",
            "\n",
            "Test accuracy: 0.8273098000601175\n",
            "\n",
            "Test precision_micro: 0.8273098000601175\n",
            "\n",
            "Test precision_macro: 0.6104366243723274\n",
            "\n",
            "Test precision_weighted: 0.8079585416944048\n",
            "\n",
            "Test recall_micro: 0.8273098000601175\n",
            "\n",
            "Test recall_macro: 0.6190153816626193\n",
            "\n",
            "Test recall_weighted: 0.8273098000601175\n",
            "\n",
            "Test f1_micro: 0.8273098000601175\n",
            "\n",
            "Test f1_macro: 0.6069945323108884\n",
            "\n",
            "Test f1_weighted: 0.8099888666096354\n",
            "\n",
            "Epoch [8 / 15]\n",
            "\n",
            "Train loss: 0.2899590218320806\n",
            "\n",
            "Train accuracy: 0.9172357036835481\n",
            "\n",
            "Train precision_micro: 0.9172357036835481\n",
            "\n",
            "Train precision_macro: 0.6242445809915866\n",
            "\n",
            "Train precision_weighted: 0.912682251331206\n",
            "\n",
            "Train recall_micro: 0.9172357036835481\n",
            "\n",
            "Train recall_macro: 0.5144470965405817\n",
            "\n",
            "Train recall_weighted: 0.9172357036835481\n",
            "\n",
            "Train f1_micro: 0.9172357036835481\n",
            "\n",
            "Train f1_macro: 0.5363079234598095\n",
            "\n",
            "Train f1_weighted: 0.9106819729885134\n",
            "\n",
            "Test loss:  0.5084691472687742\n",
            "\n",
            "Test accuracy: 0.8390064114473049\n",
            "\n",
            "Test precision_micro: 0.8390064114473049\n",
            "\n",
            "Test precision_macro: 0.6440052309196889\n",
            "\n",
            "Test precision_weighted: 0.8281333992280996\n",
            "\n",
            "Test recall_micro: 0.8390064114473049\n",
            "\n",
            "Test recall_macro: 0.6459515808633054\n",
            "\n",
            "Test recall_weighted: 0.8390064114473049\n",
            "\n",
            "Test f1_micro: 0.8390064114473049\n",
            "\n",
            "Test f1_macro: 0.6376780019616289\n",
            "\n",
            "Test f1_weighted: 0.8262152487922867\n",
            "\n",
            "Epoch [9 / 15]\n",
            "\n",
            "Train loss: 0.2484980245853992\n",
            "\n",
            "Train accuracy: 0.930852421874193\n",
            "\n",
            "Train precision_micro: 0.930852421874193\n",
            "\n",
            "Train precision_macro: 0.6890595722039516\n",
            "\n",
            "Train precision_weighted: 0.9289952646856107\n",
            "\n",
            "Train recall_micro: 0.930852421874193\n",
            "\n",
            "Train recall_macro: 0.6093542568612366\n",
            "\n",
            "Train recall_weighted: 0.930852421874193\n",
            "\n",
            "Train f1_micro: 0.930852421874193\n",
            "\n",
            "Train f1_macro: 0.6240264068443492\n",
            "\n",
            "Train f1_weighted: 0.9273821510688213\n",
            "\n",
            "Test loss:  0.4842744273631818\n",
            "\n",
            "Test accuracy: 0.847060694997916\n",
            "\n",
            "Test precision_micro: 0.847060694997916\n",
            "\n",
            "Test precision_macro: 0.6658646751122409\n",
            "\n",
            "Test precision_weighted: 0.8450263401009344\n",
            "\n",
            "Test recall_micro: 0.847060694997916\n",
            "\n",
            "Test recall_macro: 0.6637122305479438\n",
            "\n",
            "Test recall_weighted: 0.847060694997916\n",
            "\n",
            "Test f1_micro: 0.847060694997916\n",
            "\n",
            "Test f1_macro: 0.6576518944470937\n",
            "\n",
            "Test f1_weighted: 0.8389828991654238\n",
            "\n",
            "Epoch [10 / 15]\n",
            "\n",
            "Train loss: 0.2132614423936986\n",
            "\n",
            "Train accuracy: 0.9406743882350131\n",
            "\n",
            "Train precision_micro: 0.9406743882350131\n",
            "\n",
            "Train precision_macro: 0.7432533816207719\n",
            "\n",
            "Train precision_weighted: 0.9391705425215138\n",
            "\n",
            "Train recall_micro: 0.9406743882350131\n",
            "\n",
            "Train recall_macro: 0.6726511116284\n",
            "\n",
            "Train recall_weighted: 0.9406743882350131\n",
            "\n",
            "Train f1_micro: 0.9406743882350131\n",
            "\n",
            "Train f1_macro: 0.6877182885880411\n",
            "\n",
            "Train f1_weighted: 0.9376979888087625\n",
            "\n",
            "Test loss:  0.455321214230681\n",
            "\n",
            "Test accuracy: 0.8731974592359505\n",
            "\n",
            "Test precision_micro: 0.8731974592359505\n",
            "\n",
            "Test precision_macro: 0.6978333241461419\n",
            "\n",
            "Test precision_weighted: 0.8594844067980334\n",
            "\n",
            "Test recall_micro: 0.8731974592359505\n",
            "\n",
            "Test recall_macro: 0.7010818216112673\n",
            "\n",
            "Test recall_weighted: 0.8731974592359505\n",
            "\n",
            "Test f1_micro: 0.8731974592359505\n",
            "\n",
            "Test f1_macro: 0.6927449453138081\n",
            "\n",
            "Test f1_weighted: 0.8603137502980215\n",
            "\n",
            "Epoch [11 / 15]\n",
            "\n",
            "Train loss: 0.1854342703806593\n",
            "\n",
            "Train accuracy: 0.948516816667174\n",
            "\n",
            "Train precision_micro: 0.948516816667174\n",
            "\n",
            "Train precision_macro: 0.7832878826923337\n",
            "\n",
            "Train precision_weighted: 0.9470873929770169\n",
            "\n",
            "Train recall_micro: 0.948516816667174\n",
            "\n",
            "Train recall_macro: 0.7123680496639765\n",
            "\n",
            "Train recall_weighted: 0.948516816667174\n",
            "\n",
            "Train f1_micro: 0.948516816667174\n",
            "\n",
            "Train f1_macro: 0.7300320333843968\n",
            "\n",
            "Train f1_weighted: 0.9458050926616547\n",
            "\n",
            "Test loss:  0.44119976084740403\n",
            "\n",
            "Test accuracy: 0.8804417506665709\n",
            "\n",
            "Test precision_micro: 0.8804417506665709\n",
            "\n",
            "Test precision_macro: 0.716357148348771\n",
            "\n",
            "Test precision_weighted: 0.8707683263265197\n",
            "\n",
            "Test recall_micro: 0.8804417506665709\n",
            "\n",
            "Test recall_macro: 0.7184207448790646\n",
            "\n",
            "Test recall_weighted: 0.8804417506665709\n",
            "\n",
            "Test f1_micro: 0.8804417506665709\n",
            "\n",
            "Test f1_macro: 0.7106457801200701\n",
            "\n",
            "Test f1_weighted: 0.8695807947742056\n",
            "\n",
            "Epoch [12 / 15]\n",
            "\n",
            "Train loss: 0.16138619273266894\n",
            "\n",
            "Train accuracy: 0.955907218202173\n",
            "\n",
            "Train precision_micro: 0.955907218202173\n",
            "\n",
            "Train precision_macro: 0.8124100194450394\n",
            "\n",
            "Train precision_weighted: 0.9553229288821942\n",
            "\n",
            "Train recall_micro: 0.955907218202173\n",
            "\n",
            "Train recall_macro: 0.753739726335524\n",
            "\n",
            "Train recall_weighted: 0.955907218202173\n",
            "\n",
            "Train f1_micro: 0.955907218202173\n",
            "\n",
            "Train f1_macro: 0.7675563976915981\n",
            "\n",
            "Train f1_weighted: 0.953807900374495\n",
            "\n",
            "Test loss:  0.43040583780524294\n",
            "\n",
            "Test accuracy: 0.8849920839565081\n",
            "\n",
            "Test precision_micro: 0.8849920839565081\n",
            "\n",
            "Test precision_macro: 0.7305056171647658\n",
            "\n",
            "Test precision_weighted: 0.8753227946636606\n",
            "\n",
            "Test recall_micro: 0.8849920839565081\n",
            "\n",
            "Test recall_macro: 0.7312848713411998\n",
            "\n",
            "Test recall_weighted: 0.8849920839565081\n",
            "\n",
            "Test f1_micro: 0.8849920839565081\n",
            "\n",
            "Test f1_macro: 0.7242946060709005\n",
            "\n",
            "Test f1_weighted: 0.8742592887770378\n",
            "\n",
            "Epoch [13 / 15]\n",
            "\n",
            "Train loss: 0.1421310470459309\n",
            "\n",
            "Train accuracy: 0.9618150269303624\n",
            "\n",
            "Train precision_micro: 0.9618150269303624\n",
            "\n",
            "Train precision_macro: 0.8453255296010356\n",
            "\n",
            "Train precision_weighted: 0.9617699010812246\n",
            "\n",
            "Train recall_micro: 0.9618150269303624\n",
            "\n",
            "Train recall_macro: 0.7864550946402048\n",
            "\n",
            "Train recall_weighted: 0.9618150269303624\n",
            "\n",
            "Train f1_micro: 0.9618150269303624\n",
            "\n",
            "Train f1_macro: 0.8015878862182779\n",
            "\n",
            "Train f1_weighted: 0.9602120395854048\n",
            "\n",
            "Test loss:  0.4150929714763727\n",
            "\n",
            "Test accuracy: 0.8894367458636006\n",
            "\n",
            "Test precision_micro: 0.8894367458636006\n",
            "\n",
            "Test precision_macro: 0.7420015194961663\n",
            "\n",
            "Test precision_weighted: 0.885372257855463\n",
            "\n",
            "Test recall_micro: 0.8894367458636006\n",
            "\n",
            "Test recall_macro: 0.7402859434757147\n",
            "\n",
            "Test recall_weighted: 0.8894367458636006\n",
            "\n",
            "Test f1_micro: 0.8894367458636006\n",
            "\n",
            "Test f1_macro: 0.7346903082472197\n",
            "\n",
            "Test f1_weighted: 0.8814179379817184\n",
            "\n",
            "Epoch [14 / 15]\n",
            "\n",
            "Train loss: 0.12592135995943496\n",
            "\n",
            "Train accuracy: 0.9665580847027191\n",
            "\n",
            "Train precision_micro: 0.9665580847027191\n",
            "\n",
            "Train precision_macro: 0.8677407532798352\n",
            "\n",
            "Train precision_weighted: 0.9664322658234623\n",
            "\n",
            "Train recall_micro: 0.9665580847027191\n",
            "\n",
            "Train recall_macro: 0.8136462243261482\n",
            "\n",
            "Train recall_weighted: 0.9665580847027191\n",
            "\n",
            "Train f1_micro: 0.9665580847027191\n",
            "\n",
            "Train f1_macro: 0.8298668270590656\n",
            "\n",
            "Train f1_weighted: 0.965330471263607\n",
            "\n",
            "Test loss:  0.3943546926914483\n",
            "\n",
            "Test accuracy: 0.8984894958029229\n",
            "\n",
            "Test precision_micro: 0.8984894958029229\n",
            "\n",
            "Test precision_macro: 0.7604631743152177\n",
            "\n",
            "Test precision_weighted: 0.8909375665261157\n",
            "\n",
            "Test recall_micro: 0.8984894958029229\n",
            "\n",
            "Test recall_macro: 0.7594302743061155\n",
            "\n",
            "Test recall_weighted: 0.8984894958029229\n",
            "\n",
            "Test f1_micro: 0.8984894958029229\n",
            "\n",
            "Test f1_macro: 0.7537749093298947\n",
            "\n",
            "Test f1_weighted: 0.8891055761842718\n",
            "\n",
            "Epoch [15 / 15]\n",
            "\n",
            "Train loss: 0.11253631646011739\n",
            "\n",
            "Train accuracy: 0.9700408802875029\n",
            "\n",
            "Train precision_micro: 0.9700408802875029\n",
            "\n",
            "Train precision_macro: 0.8862559979187524\n",
            "\n",
            "Train precision_weighted: 0.9699143230336101\n",
            "\n",
            "Train recall_micro: 0.9700408802875029\n",
            "\n",
            "Train recall_macro: 0.8345487471153339\n",
            "\n",
            "Train recall_weighted: 0.9700408802875029\n",
            "\n",
            "Train f1_micro: 0.9700408802875029\n",
            "\n",
            "Train f1_macro: 0.8498803015105176\n",
            "\n",
            "Train f1_weighted: 0.9688815299938836\n",
            "\n",
            "Test loss:  0.3795419590178567\n",
            "\n",
            "Test accuracy: 0.9027723199297292\n",
            "\n",
            "Test precision_micro: 0.9027723199297292\n",
            "\n",
            "Test precision_macro: 0.770502718029445\n",
            "\n",
            "Test precision_weighted: 0.8960800792390411\n",
            "\n",
            "Test recall_micro: 0.9027723199297292\n",
            "\n",
            "Test recall_macro: 0.769304662298758\n",
            "\n",
            "Test recall_weighted: 0.9027723199297292\n",
            "\n",
            "Test f1_micro: 0.9027723199297292\n",
            "\n",
            "Test f1_macro: 0.7638183356323627\n",
            "\n",
            "Test f1_weighted: 0.8939755656185394\n",
            "\n"
          ]
        },
        {
          "name": "stderr",
          "output_type": "stream",
          "text": [
            "loop over test batches: 100%|██████████| 3683/3683 [00:46<00:00, 78.51it/s]\n",
            "loop over train batches: 100%|██████████| 235/235 [00:08<00:00, 26.85it/s]\n",
            "loop over test batches: 100%|██████████| 3683/3683 [00:46<00:00, 79.07it/s]\n",
            "loop over train batches: 100%|██████████| 235/235 [00:08<00:00, 26.92it/s]\n",
            "loop over test batches: 100%|██████████| 3683/3683 [00:46<00:00, 79.26it/s]\n",
            "loop over train batches: 100%|██████████| 235/235 [00:08<00:00, 27.67it/s]\n",
            "loop over test batches: 100%|██████████| 3683/3683 [00:46<00:00, 78.79it/s]\n",
            "loop over train batches: 100%|██████████| 235/235 [00:08<00:00, 27.04it/s]\n",
            "loop over test batches: 100%|██████████| 3683/3683 [00:46<00:00, 79.58it/s]\n",
            "loop over train batches: 100%|██████████| 235/235 [00:08<00:00, 27.14it/s]\n",
            "loop over test batches: 100%|██████████| 3683/3683 [00:46<00:00, 79.20it/s]\n",
            "loop over train batches: 100%|██████████| 235/235 [00:08<00:00, 27.22it/s]\n",
            "loop over test batches: 100%|██████████| 3683/3683 [00:46<00:00, 79.00it/s]\n",
            "loop over train batches: 100%|██████████| 235/235 [00:08<00:00, 27.22it/s]\n",
            "loop over test batches: 100%|██████████| 3683/3683 [00:46<00:00, 79.38it/s]\n",
            "loop over train batches: 100%|██████████| 235/235 [00:08<00:00, 27.33it/s]\n",
            "loop over test batches: 100%|██████████| 3683/3683 [00:46<00:00, 79.85it/s]\n",
            "loop over train batches: 100%|██████████| 235/235 [00:08<00:00, 26.30it/s]\n",
            "loop over test batches: 100%|██████████| 3683/3683 [00:46<00:00, 79.13it/s]\n",
            "loop over train batches: 100%|██████████| 235/235 [00:08<00:00, 27.07it/s]\n",
            "loop over test batches: 100%|██████████| 3683/3683 [00:46<00:00, 79.53it/s]\n",
            "loop over train batches: 100%|██████████| 235/235 [00:08<00:00, 26.98it/s]\n",
            "loop over test batches: 100%|██████████| 3683/3683 [00:46<00:00, 79.67it/s]\n",
            "loop over train batches: 100%|██████████| 235/235 [00:08<00:00, 27.00it/s]\n",
            "loop over test batches: 100%|██████████| 3683/3683 [00:46<00:00, 80.05it/s]\n",
            "loop over train batches: 100%|██████████| 235/235 [00:08<00:00, 26.64it/s]\n",
            "loop over test batches: 100%|██████████| 3683/3683 [00:46<00:00, 79.81it/s]\n"
          ]
        }
      ],
      "source": [
        "train(\n",
        "    n_epochs=15,\n",
        "    model=model_2,\n",
        "    train_dataloader=train_dataloader,\n",
        "    test_dataloader=test_dataloader,\n",
        "    optimizer=optimizer_2,\n",
        "    criterion=criterion_2,\n",
        "    writer=writer,\n",
        "    device=device\n",
        ")"
      ]
    },
    {
      "cell_type": "code",
      "execution_count": null,
      "metadata": {
        "cellId": "884d0wk3in4mm14jszpfe",
        "id": "IsQVUaheUpLu",
        "outputId": "641f3e5c-a51b-49f4-9aed-c0bd6011082a"
      },
      "outputs": [
        {
          "name": "stdout",
          "output_type": "stream",
          "text": [
            "Test loss:  0.24252389923942147\n",
            "\n",
            "Test accuracy: 0.9382260986585423\n",
            "\n",
            "Test precision_micro: 0.9382260986585423\n",
            "\n",
            "Test precision_macro: 0.8272291428426016\n",
            "\n",
            "Test precision_weighted: 0.9340167823003992\n",
            "\n",
            "Test recall_micro: 0.9382260986585423\n",
            "\n",
            "Test recall_macro: 0.8235383083138633\n",
            "\n",
            "Test recall_weighted: 0.9382260986585423\n",
            "\n",
            "Test f1_micro: 0.9382260986585423\n",
            "\n",
            "Test f1_macro: 0.8199028927237427\n",
            "\n",
            "Test f1_weighted: 0.9317819948965933\n",
            "\n"
          ]
        },
        {
          "name": "stderr",
          "output_type": "stream",
          "text": [
            "loop over test batches: 100%|██████████| 3465/3465 [00:44<00:00, 78.63it/s]\n"
          ]
        }
      ],
      "source": [
        "evaluate_epoch(model_2, valid_dataloader, criterion_2, writer, device, -1)"
      ]
    },
    {
      "cell_type": "markdown",
      "metadata": {
        "cellId": "rrotuj1arlbgwwemym5psn",
        "id": "H8R6nopyQEL-"
      },
      "source": [
        "## Часть 3. Transformers-теггер (6 баллов)\n",
        "\n",
        "В данной части задания нужно сделать все то же самое, но с использованием модели на базе архитектуры Transformer, а именно предлагается дообучать предобученную модель **BERT**.\n",
        "\n",
        "Для данной модели подразумевается специальная подготовка данных, с чего мы и начнем:"
      ]
    },
    {
      "cell_type": "markdown",
      "metadata": {
        "cellId": "6rg6kf9y79p4usy76sebmf",
        "id": "SrbX5gFDQEL-"
      },
      "source": [
        "Модель **BERT** использует специальный токенизатор WordPiece для разбиения предложений на токены. Готовая предобученная версия такого токенизатора существует в библиотеке **transformers**. Есть два класса: `BertTokenizer` и `BertTokenizerFast`. Использовать можно любой, но второй вариант работает существенно быстрее.\n",
        "\n",
        "Токенизаторы можно обучать с нуля на своем корпусе данных, а можно подгружать уже готовые. Готовые токенизаторы, как правило, соответствуют предобученной конфигурации модели, которая использует словарь из этого токенизатора. \n",
        "\n",
        "Мы будем использовать базовую конфигурацию предобученного **BERT** для модели и токенизатора.\n",
        "\n",
        "P.S. Часто приходится проводить эксперименты с моделями разной архитектуры, например **BERT** и **GPT**, поэтому удобно использовать класс `AutoTokenizer`, который по названию модели сам определит, какой класс нужен для инициализации токенизатора."
      ]
    },
    {
      "cell_type": "code",
      "execution_count": null,
      "metadata": {
        "cellId": "x0brls2cror7ju8telhe",
        "id": "4-UTiI4gQEL-"
      },
      "outputs": [],
      "source": [
        "from transformers import AutoTokenizer"
      ]
    },
    {
      "cell_type": "code",
      "execution_count": null,
      "metadata": {
        "cellId": "qaavr0evb6b1rb54eg181w",
        "id": "kSbBhvnDQEMA"
      },
      "outputs": [],
      "source": [
        "model_name = \"distilbert-base-cased\""
      ]
    },
    {
      "cell_type": "markdown",
      "metadata": {
        "cellId": "1dp5l57a2gl777nc9jilis",
        "id": "kxWNX5i6QEMA"
      },
      "source": [
        "Подгружение предобученных моделей и токенизаторов в **huggingface** происходит с помощью конструктора **from_pretrained**.\n",
        "\n",
        "В данном конструкторе можно указать либо путь к предобученному токенизатору, либо название предобученной конфигурации, как в нашем случае: тогда **transformers** сам подгрузит нужные параметры:"
      ]
    },
    {
      "cell_type": "code",
      "execution_count": null,
      "metadata": {
        "cellId": "serslppujetwed8li6wzo",
        "id": "3tg_bCeaQEMA"
      },
      "outputs": [],
      "source": [
        "tokenizer = AutoTokenizer.from_pretrained(model_name)"
      ]
    },
    {
      "cell_type": "markdown",
      "metadata": {
        "cellId": "lwdip0m2sz8wpb9obgv54",
        "id": "4MIrbmNoQEMA"
      },
      "source": [
        "### Подготовка словарей\n",
        "\n",
        "В сравнении с рекуррентными моделями, на больше не нужно заниматься сборкой словаря, так как это уже сделано заранее благодаря токенизаторам и алгоритмам, стоящими за ними.\n",
        "\n",
        "Но нам как и прежде потребуется:\n",
        "- {**label**}→{**label_idx**}: соответствие между тегом и уникальным индексом (начинается с 0);\n",
        "\n",
        "Но данное отображение у нас уже реализовано в одной из предыдущих частей задания."
      ]
    },
    {
      "cell_type": "markdown",
      "metadata": {
        "cellId": "m61krncf92bu2pibhd36dg",
        "id": "CvYF-4uaQEMB"
      },
      "source": [
        "### Подготовка датасета и загрузчика\n",
        "\n",
        "Мы также хотим обучать модель батчами, поэтому нам как и прежде понадобятся `Dataset`, `Collator` и `DataLoader`.\n",
        "\n",
        "Но мы не можем переиспользовать те, что в предыдущих частях задания, так как обработка данных должна производится немного иначе с использованием токенизатора.\n",
        "\n",
        "Давайте напишем новый кастомный датасет, который на вход (метод `__init__`) будет принимать:\n",
        "- token_seq - список списков слов / токенов\n",
        "- label_seq - список списков тегов\n",
        "\n",
        "и возвращать из метода `__getitem__` два списка:\n",
        "- список текстовых значений (`List[str]`) из индексов токенов в сэмпле\n",
        "- список целочисленных значений (`List[int]`) из индексов соответвующих тегов\n",
        "\n",
        "P.S. В отличие от предыдущего кастомного датасет, здесь мы возвращаем два `List`'а вместо `torch.LongTensor`, так как логику формирования западдированного батча мы перенесем в `Collator` из-за специфики работы токенизатора - он сам возвращает уже западдированный тензор с индексами токенов, а для индексов тегов нам нужно будет сделать это самостоятельно по аналогии с предыдущим датасетом.\n",
        "\n",
        "**Задание. Реализуйте класс датасета TransformersDataset.** **<font color='red'>(1 балл)</font>**"
      ]
    },
    {
      "cell_type": "code",
      "execution_count": null,
      "metadata": {
        "cellId": "aevsz9pu8pjun0od9w744c",
        "id": "7EoNLDOOQEMB"
      },
      "outputs": [],
      "source": [
        "class TransformersDataset(torch.utils.data.Dataset):\n",
        "    \"\"\"\n",
        "    Transformers Dataset for NER.\n",
        "    \"\"\"\n",
        "\n",
        "    def __init__(\n",
        "        self,\n",
        "        token_seq: List[List[str]],\n",
        "        label_seq: List[List[str]],\n",
        "    ):\n",
        "        self.token_seq = token_seq\n",
        "        self.label_seq = [self.process_labels(labels, label2idx) for labels in label_seq]\n",
        "\n",
        "    def __len__(self):\n",
        "        return len(self.token_seq)\n",
        "\n",
        "    def __getitem__(\n",
        "        self,\n",
        "        idx: int,\n",
        "    ) -> Tuple[List[str], List[int]]:\n",
        "        # YOUR CODE HERE\n",
        "    \n",
        "    @staticmethod\n",
        "    def process_labels(\n",
        "        labels: List[str],\n",
        "        label2idx: Dict[str, int],\n",
        "    ) -> List[int]:\n",
        "        \"\"\"\n",
        "        Transform list of labels into list of labels' indices.\n",
        "        \"\"\"\n",
        "        # YOUR CODE HERE"
      ]
    },
    {
      "cell_type": "markdown",
      "metadata": {
        "cellId": "5m6qolwcy5t00gs2vegkcgy",
        "id": "p1oNc-31QEMB"
      },
      "source": [
        "Создадим три датасета:\n",
        "- *train_dataset*\n",
        "- *valid_dataset*\n",
        "- *test_dataset*"
      ]
    },
    {
      "cell_type": "code",
      "execution_count": null,
      "metadata": {
        "cellId": "x689zyya51q1cbymis5ym6",
        "id": "vqg56Jf8QEMC"
      },
      "outputs": [],
      "source": [
        "train_dataset = TransformersDataset(\n",
        "    token_seq=train_token_seq,\n",
        "    label_seq=train_label_seq,\n",
        ")\n",
        "valid_dataset = TransformersDataset(\n",
        "    token_seq=valid_token_seq,\n",
        "    label_seq=valid_label_seq,\n",
        ")\n",
        "test_dataset = TransformersDataset(\n",
        "    token_seq=test_token_seq,\n",
        "    label_seq=test_label_seq,\n",
        ")"
      ]
    },
    {
      "cell_type": "markdown",
      "metadata": {
        "cellId": "o1021y7t8pfz1pryfyxkgi",
        "id": "WdIS6XrvQEMC"
      },
      "source": [
        "Посмотрим на то, что мы получили:"
      ]
    },
    {
      "cell_type": "code",
      "execution_count": null,
      "metadata": {
        "cellId": "68hjn0km15yfyzh796de69",
        "id": "IT00Pjy6QEMC"
      },
      "outputs": [],
      "source": [
        "train_dataset[0]"
      ]
    },
    {
      "cell_type": "code",
      "execution_count": null,
      "metadata": {
        "cellId": "9trgq2hrdxj16yl8s7skjd",
        "id": "uYal2icQmuD-"
      },
      "outputs": [],
      "source": [
        "valid_dataset[0]"
      ]
    },
    {
      "cell_type": "code",
      "execution_count": null,
      "metadata": {
        "cellId": "qh8c5kerjff0d8kw62lztkf",
        "id": "FCXd3FWVmuKe"
      },
      "outputs": [],
      "source": [
        "test_dataset[0]"
      ]
    },
    {
      "cell_type": "code",
      "execution_count": null,
      "metadata": {
        "cellId": "v9x89ox1ny1qsbqneh0iu",
        "id": "B4R605vAnYT9"
      },
      "outputs": [],
      "source": [
        "assert len(train_dataset) == 14986, \"Неправильная длина train_dataset\"\n",
        "assert len(valid_dataset) == 3465, \"Неправильная длина valid_dataset\"\n",
        "assert len(test_dataset) == 3683, \"Неправильная длина test_dataset\"\n",
        "\n",
        "assert train_dataset[0][0] == ['eu', 'rejects', 'german', 'call', 'to', 'boycott', 'british', 'lamb', '.'], \"Неправильно сформированный train_dataset\"\n",
        "assert train_dataset[0][1] == [3,0,2,0,0,0,2,0,0], \"Неправильно сформированный train_dataset\"\n",
        "\n",
        "assert valid_dataset[0][0] == ['cricket', '-', 'leicestershire', 'take', 'over', 'at', 'top', 'after', 'innings', 'victory', '.'], \"Неправильно сформированный valid_dataset\"\n",
        "assert valid_dataset[0][1] == [0,0,3,0,0,0,0,0,0,0,0], \"Неправильно сформированный valid_dataset\"\n",
        "\n",
        "assert test_dataset[0][0] == ['soccer', '-', 'japan', 'get', 'lucky', 'win', ',', 'china', 'in', 'surprise', 'defeat', '.'], \"Неправильно сформированный test_dataset\"\n",
        "assert test_dataset[0][1] == [0,0,1,0,0,0,0,4,0,0,0,0], \"Неправильно сформированный test_dataset\"\n",
        "\n",
        "print(\"Тесты пройдены!\")"
      ]
    },
    {
      "cell_type": "markdown",
      "metadata": {
        "cellId": "t9wbbandijerlzmk7yua7a",
        "id": "0zP_6iQnQEMC"
      },
      "source": [
        "Реализуем новый `Collator`.\n",
        "\n",
        "Инициализировать коллатор будет 3 аргументами:\n",
        "- токенизатор\n",
        "- параметры токенизатора в виде словаря (затем используем как `**kwargs`)\n",
        "- id спецтокена для последовательностей тегов (значение -1)\n",
        "\n",
        "Метод `__call__` на вход принимает батч, а именно список кортежей того, что нам возвращается из датасета. В нашем случае это список кортежей двух int64 тензоров - `List[Tuple[torch.LongTensor, torch.LongTensor]]`.\n",
        "\n",
        "На выходе мы хотим получить два тензора:\n",
        "- западденные индексы слов / токенов\n",
        "- западденные индексы тегов\n",
        "\n",
        "**Задание. Реализуйте класс коллатора TransformersCollator.** **<font color='red'>(2 балла)</font>**"
      ]
    },
    {
      "cell_type": "code",
      "execution_count": null,
      "metadata": {
        "cellId": "hlxbibxm0awwhelttdpyzo",
        "id": "BonAp65jQEMD"
      },
      "outputs": [],
      "source": [
        "from transformers import PreTrainedTokenizer\n",
        "from transformers.tokenization_utils_base import BatchEncoding\n",
        "\n",
        "\n",
        "class TransformersCollator:\n",
        "    \"\"\"\n",
        "    Transformers Collator that handles variable-size sentences.\n",
        "    \"\"\"\n",
        "\n",
        "    def __init__(\n",
        "        self,\n",
        "        tokenizer: PreTrainedTokenizer,\n",
        "        tokenizer_kwargs: Dict[str, Any],\n",
        "        label_padding_value: int,\n",
        "    ):\n",
        "        self.tokenizer = tokenizer\n",
        "        self.tokenizer_kwargs = tokenizer_kwargs\n",
        "        \n",
        "        self.label_padding_value = label_padding_value\n",
        "\n",
        "    def __call__(\n",
        "        self,\n",
        "        batch: List[Tuple[List[str], List[int]]],\n",
        "    ) -> Tuple[torch.LongTensor, torch.LongTensor]:\n",
        "        tokens, labels = zip(*batch)\n",
        "\n",
        "        # YOUR CODE HERE\n",
        "\n",
        "        tokens.pop(\"offset_mapping\")\n",
        "\n",
        "        return tokens, labels\n",
        "    \n",
        "    @staticmethod\n",
        "    def encode_labels(\n",
        "        tokens: BatchEncoding,\n",
        "        labels: List[List[int]],\n",
        "        label_padding_value: int,\n",
        "    ) -> torch.LongTensor:\n",
        "\n",
        "        encoded_labels = []\n",
        "\n",
        "        for doc_labels, doc_offset in zip(labels, tokens.offset_mapping):\n",
        "\n",
        "            doc_enc_labels = np.ones(len(doc_offset), dtype=int) * label_padding_value\n",
        "            arr_offset = np.array(doc_offset)\n",
        "\n",
        "            doc_enc_labels[(arr_offset[:,0] == 0) & (arr_offset[:,1] != 0)] = doc_labels\n",
        "            encoded_labels.append(doc_enc_labels.tolist())\n",
        "\n",
        "        return torch.LongTensor(encoded_labels)"
      ]
    },
    {
      "cell_type": "code",
      "execution_count": null,
      "metadata": {
        "cellId": "vopxpw5srzxzb34wjifrk",
        "id": "iC8JkUPnQEMD"
      },
      "outputs": [],
      "source": [
        "tokenizer_kwargs = {\n",
        "    \"is_split_into_words\":    True,\n",
        "    \"return_offsets_mapping\": True,\n",
        "    \"padding\":                True,\n",
        "    \"truncation\":             True,\n",
        "    \"max_length\":             512,\n",
        "    \"return_tensors\":         \"pt\",\n",
        "}"
      ]
    },
    {
      "cell_type": "code",
      "execution_count": null,
      "metadata": {
        "cellId": "7281ms5ekj80nlh1pazjrf",
        "id": "5sCDaxR6QEMD"
      },
      "outputs": [],
      "source": [
        "collator = TransformersCollator(\n",
        "    tokenizer=tokenizer,\n",
        "    tokenizer_kwargs=tokenizer_kwargs,\n",
        "    label_padding_value=-1,\n",
        ")"
      ]
    },
    {
      "cell_type": "markdown",
      "metadata": {
        "cellId": "4p79jncsrypopvhv2qejkk",
        "id": "eirev0N_QEMD"
      },
      "source": [
        "Теперь всё готово, чтобы задать `DataLoader`'ы:"
      ]
    },
    {
      "cell_type": "code",
      "execution_count": null,
      "metadata": {
        "cellId": "tm2hdifzu5hcxghcfqqq9",
        "id": "9JDrLC6pQEME"
      },
      "outputs": [],
      "source": [
        "train_dataloader = torch.utils.data.DataLoader(\n",
        "    train_dataset,\n",
        "    batch_size=2,\n",
        "    shuffle=True,\n",
        "    collate_fn=collator,\n",
        ")\n",
        "valid_dataloader = torch.utils.data.DataLoader(\n",
        "    valid_dataset,\n",
        "    batch_size=1,  # для корректных замеров метрик оставить batch_size=1\n",
        "    shuffle=False, # для корректных замеров метрик оставить shuffle=False\n",
        "    collate_fn=collator,\n",
        ")\n",
        "test_dataloader = torch.utils.data.DataLoader(\n",
        "    test_dataset,\n",
        "    batch_size=1,  # для корректных замеров метрик оставить batch_size=1\n",
        "    shuffle=False, # для корректных замеров метрик оставить shuffle=False\n",
        "    collate_fn=collator,\n",
        ")"
      ]
    },
    {
      "cell_type": "markdown",
      "metadata": {
        "cellId": "ip1q8y8ungef7r2do7syno",
        "id": "v3zGjEDHQEME"
      },
      "source": [
        "Посмотрим на то, что мы получили:"
      ]
    },
    {
      "cell_type": "code",
      "execution_count": null,
      "metadata": {
        "cellId": "hyfjtquidsr3rn2vlioefa",
        "id": "KSWcYEAWQEME"
      },
      "outputs": [],
      "source": [
        "tokens, labels = next(iter(train_dataloader))\n",
        "\n",
        "tokens = tokens.to(device)\n",
        "labels = labels.to(device)"
      ]
    },
    {
      "cell_type": "code",
      "execution_count": null,
      "metadata": {
        "cellId": "tal79ibjesgvjr4e9q30so",
        "id": "NTcdU1BlQEME"
      },
      "outputs": [],
      "source": [
        "tokens"
      ]
    },
    {
      "cell_type": "code",
      "execution_count": null,
      "metadata": {
        "cellId": "8qiscu6mvspx60rkrf1xeb",
        "id": "p7ZTh97-QEME"
      },
      "outputs": [],
      "source": [
        "labels"
      ]
    },
    {
      "cell_type": "code",
      "execution_count": null,
      "metadata": {
        "cellId": "xosymwss3uh74uaz6vxbb",
        "id": "pMprtk9bodM9"
      },
      "outputs": [],
      "source": [
        "train_tokens, train_labels = next(iter(\n",
        "    torch.utils.data.DataLoader(\n",
        "        train_dataset,\n",
        "        batch_size=2,\n",
        "        shuffle=False,\n",
        "        collate_fn=collator,\n",
        "    )\n",
        "))\n",
        "assert torch.equal(train_tokens['input_ids'], torch.tensor([[  101,   174,  1358, 22961,   176, 14170,  1840,  1106, 21423,  9304, 10721,  1324,  2495, 12913,   119,   102], [  101, 11109,  1200,  1602,  6715,   102,     0,     0,     0,     0,    0,     0,     0,     0,     0,     0]])), \"Похоже на ошибку в коллаторе\"\n",
        "assert torch.equal(train_tokens['attention_mask'], torch.tensor([[1, 1, 1, 1, 1, 1, 1, 1, 1, 1, 1, 1, 1, 1, 1, 1], [1, 1, 1, 1, 1, 1, 0, 0, 0, 0, 0, 0, 0, 0, 0, 0]])), \"Похоже на ошибку в коллаторе\"\n",
        "assert torch.equal(train_labels, torch.tensor([[-1,  3, -1,  0,  2, -1,  0,  0,  0,  2, -1, -1,  0, -1,  0, -1], [-1,  4, -1,  8, -1, -1, -1, -1, -1, -1, -1, -1, -1, -1, -1, -1]])), \"Похоже на ошибку в коллаторе\"\n",
        "\n",
        "valid_tokens, valid_labels = next(iter(\n",
        "    torch.utils.data.DataLoader(\n",
        "        valid_dataset,\n",
        "        batch_size=2,\n",
        "        shuffle=False,\n",
        "        collate_fn=collator,\n",
        "    )\n",
        "))\n",
        "assert torch.equal(valid_tokens['input_ids'], torch.tensor([[  101,  5428,   118,  5837, 18117,  5759, 15189,  1321,  1166,  1120,  1499,  1170,  6687,  2681,   119,   102], [  101, 25338, 17996,  1820,   118,  4775,   118,  1476,   102,     0,     0,     0,     0,     0,     0,     0]])), \"Похоже на ошибку в коллаторе\"\n",
        "assert torch.equal(valid_tokens['attention_mask'], torch.tensor([[1, 1, 1, 1, 1, 1, 1, 1, 1, 1, 1, 1, 1, 1, 1, 1], [1, 1, 1, 1, 1, 1, 1, 1, 1, 0, 0, 0, 0, 0, 0, 0]])), \"Похоже на ошибку в коллаторе\"\n",
        "assert torch.equal(valid_labels, torch.tensor([[-1,  0,  0,  3, -1, -1, -1,  0,  0,  0,  0,  0,  0,  0,  0, -1], [-1,  1, -1,  0, -1, -1, -1, -1, -1, -1, -1, -1, -1, -1, -1, -1]])), \"Похоже на ошибку в коллаторе\"\n",
        "\n",
        "test_tokens, test_labels = next(iter(\n",
        "    torch.utils.data.DataLoader(\n",
        "        test_dataset,\n",
        "        batch_size=2,\n",
        "        shuffle=False,\n",
        "        collate_fn=collator,\n",
        "    )\n",
        "))\n",
        "assert torch.equal(test_tokens['input_ids'], torch.tensor([[  101,  5862,   118,   179, 26519,  1179,  1243,  6918,  1782,   117,  5144,  1161,  1107,  3774,  3326,   119,   102], [  101,  9468,  3309,  1306, 19122,  2293,   102,     0,     0,     0,     0,     0,     0,     0,     0,     0,     0]])), \"Похоже на ошибку в коллаторе\"\n",
        "assert torch.equal(test_tokens['attention_mask'], torch.tensor([[1, 1, 1, 1, 1, 1, 1, 1, 1, 1, 1, 1, 1, 1, 1, 1, 1], [1, 1, 1, 1, 1, 1, 1, 0, 0, 0, 0, 0, 0, 0, 0, 0, 0]])), \"Похоже на ошибку в коллаторе\"\n",
        "assert torch.equal(test_labels, torch.tensor([[-1,  0,  0,  1, -1, -1,  0,  0,  0,  0,  4, -1,  0,  0,  0,  0, -1], [-1,  4, -1, -1,  8, -1, -1, -1, -1, -1, -1, -1, -1, -1, -1, -1, -1]])), \"Похоже на ошибку в коллаторе\"\n",
        "\n",
        "print(\"Тесты пройдены!\")"
      ]
    },
    {
      "cell_type": "markdown",
      "metadata": {
        "cellId": "zo50jlo3cgrjao24tb04",
        "id": "_m-taH0SQEMF"
      },
      "source": [
        "В библиотеке **transformers** есть классы для модели BERT, уже настроенные под решение конкретных задач, с соответствующими головами классификации. Для задачи NER будем использовать класс `BertForTokenClassification`.\n",
        "\n",
        "По аналогии с токенизаторами, мы можем использовать класс `AutoModelForTokenClassification`, который по названию модели сам определит, какой класс нужен для инициализации модели."
      ]
    },
    {
      "cell_type": "code",
      "execution_count": null,
      "metadata": {
        "cellId": "f7scs49deumsjmpso32vz",
        "id": "x6tq_i7JQEMF"
      },
      "outputs": [],
      "source": [
        "from transformers import AutoModelForTokenClassification"
      ]
    },
    {
      "cell_type": "code",
      "execution_count": null,
      "metadata": {
        "cellId": "3x4d11244snuhryuxnaz1a",
        "id": "Vma9yj0zQEMF"
      },
      "outputs": [],
      "source": [
        "model = AutoModelForTokenClassification.from_pretrained(\n",
        "    model_name,\n",
        "    num_labels=len(label2idx),\n",
        ").to(device)"
      ]
    },
    {
      "cell_type": "code",
      "execution_count": null,
      "metadata": {
        "cellId": "1nwbpm2fd9joc6btv4crrg",
        "id": "Imv-6gAQQEMG"
      },
      "outputs": [],
      "source": [
        "optimizer = torch.optim.Adam(model.parameters(), lr=1e-5)"
      ]
    },
    {
      "cell_type": "code",
      "execution_count": null,
      "metadata": {
        "cellId": "7k93vhphfxl7cftvgvhhd",
        "id": "LAdHfn4oQEMG"
      },
      "outputs": [],
      "source": [
        "outputs = model(**tokens)"
      ]
    },
    {
      "cell_type": "code",
      "execution_count": null,
      "metadata": {
        "cellId": "svpaitc7p8ed378hv9p5lh",
        "id": "P-kTke_8QEMG"
      },
      "outputs": [],
      "source": [
        "assert 2 < criterion(outputs[\"logits\"].transpose(1, 2), labels) < 3\n",
        "\n",
        "print(\"Тесты пройдены!\")"
      ]
    },
    {
      "cell_type": "code",
      "execution_count": null,
      "metadata": {
        "cellId": "mkoxknsaebpt0sifxt6ssi",
        "id": "5Ana4qGKeHrN"
      },
      "outputs": [],
      "source": [
        "# создадим SummaryWriter для эксперимента с BiLSTMModel\n",
        "\n",
        "from torch.utils.tensorboard import SummaryWriter\n",
        "\n",
        "writer = SummaryWriter(log_dir=f\"logs/Transformer\")"
      ]
    },
    {
      "cell_type": "markdown",
      "metadata": {
        "cellId": "fo9wf1ts2fme4lveetb1es",
        "id": "8sNuFPRdQEMH"
      },
      "source": [
        "### Эксперименты\n",
        "\n",
        "Проведите эксперименты на данных. Настраивайте параметры по валидационной выборке, не используя тестовую. Ваше цель — настроить сеть так, чтобы качество модели по F1-macro мере на валидационной и тестовой выборках было не меньше 0.9. \n",
        "\n",
        "Сделайте выводы о качестве модели, переобучении, чувствительности архитектуры к выбору гиперпараметров. Оформите результаты экспериментов в виде мини-отчета (в этом же ipython notebook)."
      ]
    },
    {
      "cell_type": "markdown",
      "metadata": {
        "cellId": "eu521mn87vwmlg9x6i4zep",
        "id": "7IfkN20lrN0J"
      },
      "source": [
        "Вы можете использовать ту же самую функцию train, что и до этого за тем исключением, что вместо инференса `model(tokens)` нужно делать `model(**tokens)`, а вместо `outputs` использовать `outputs[\"logits\"].transpose(1, 2)`"
      ]
    },
    {
      "cell_type": "markdown",
      "metadata": {
        "cellId": "1boi85jlwkkr0x7mq4r7b",
        "id": "8iyZUFddzYE5"
      },
      "source": [
        "**Задание. Проведите эксперименты.** **<font color='red'>(2 балла)</font>**\n"
      ]
    },
    {
      "cell_type": "code",
      "execution_count": null,
      "metadata": {
        "cellId": "9b11fhgo9jvxo3jfzhihcl",
        "id": "Iv92wK5P7pjl"
      },
      "outputs": [],
      "source": [
        "# YOUR CODE HERE"
      ]
    },
    {
      "cell_type": "markdown",
      "metadata": {
        "cellId": "oyv3bewc8gkq9wmu4d4tkb",
        "id": "5XlI3cb1QEL2"
      },
      "source": [
        "## Часть 4 - Бонус. BiLSTMAttention-теггер (2 баллa)\n",
        "\n",
        "Необходимо провести те же самые эксперименты как и в части 2, но уже с использованием усовершенствованной архитектуры теггера BiLSTM с Attention механизмом.\n",
        "\n",
        "**Обратите внимание**, что реализовывать Attention самому не нужно, можно использовать `torch.nn.MultiheadAttention`.\n",
        "\n",
        "Также сделайте выводы о качестве модели, переобучении, чувствительности архитектуры к выбору гиперпараметров и проведите небольшой сравнительный анализ с предыдущей архитектурой. Оформите результаты экспериментов в виде мини-отчета (в этом же ipython notebook).\n",
        "\n",
        "**Задание. Реализуйте класс модели BiLSTMAttn.** **<font color='red'>(1 балл)</font>**"
      ]
    },
    {
      "cell_type": "code",
      "execution_count": null,
      "metadata": {
        "cellId": "3dv359t2gqtdj0j8hj3v97",
        "id": "_MyLQp047yID"
      },
      "outputs": [],
      "source": [
        "# YOUR CODE HERE"
      ]
    },
    {
      "cell_type": "markdown",
      "metadata": {
        "cellId": "eg9c3o66zw7nc86b7awd1",
        "id": "ezh9kLTkQEL9"
      },
      "source": [
        "**Задание. Проведите эксперименты и побейте метрику из части 2.** **<font color='red'>(1 балл)</font>**\n",
        "\n",
        "P.S. Eсли качества увеличить не получилось, это нужно обосновать"
      ]
    },
    {
      "cell_type": "code",
      "execution_count": null,
      "metadata": {
        "cellId": "evn1ozh06gook87z8hu4s",
        "id": "sE1C1tzEQEL-"
      },
      "outputs": [],
      "source": [
        "# YOUR CODE HERE"
      ]
    }
  ],
  "metadata": {
    "accelerator": "GPU",
    "colab": {
      "collapsed_sections": [
        "4MIrbmNoQEMA"
      ],
      "provenance": []
    },
    "gpuClass": "standard",
    "language_info": {
      "codemirror_mode": {
        "name": "ipython",
        "version": 3
      },
      "file_extension": ".py",
      "mimetype": "text/x-python",
      "name": "python",
      "nbconvert_exporter": "python",
      "pygments_lexer": "ipython3",
      "version": "3.7.7"
    },
    "notebookId": "4db1d4eb-e7ef-4214-9ac1-e95543688e43",
    "notebookPath": "Homework_3_ner (1).ipynb",
    "vscode": {
      "interpreter": {
        "hash": "8d4ce941904148077feb793883e611d25d231ca995d9164b22ee99fd0facd8d1"
      }
    }
  },
  "nbformat": 4,
  "nbformat_minor": 0
}